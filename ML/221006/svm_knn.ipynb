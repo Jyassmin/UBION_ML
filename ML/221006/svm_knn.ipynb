{
 "cells": [
  {
   "cell_type": "markdown",
   "metadata": {},
   "source": [
    "# 1. SVM(support vector machine)\n",
    "## svm - p.217"
   ]
  },
  {
   "cell_type": "markdown",
   "metadata": {},
   "source": [
    "[Estimators]\n",
    "\n",
    "svm.LinearSVC([penalty, loss, dual, tol, C, ...]) - Linear Support Vector Classification.\n",
    "\n",
    "svm.LinearSVR(*[, epsilon, tol, C, loss, ...]) - Linear Support Vector Regression.\n",
    "\n",
    "svm.NuSVC(*[, nu, kernel, degree, gamma, ...]) - Nu-Support Vector Classification.\n",
    "\n",
    "svm.NuSVR(*[, nu, C, kernel, degree, gamma, ...]) - Nu Support Vector Regression.\n",
    "\n",
    "svm.OneClassSVM(*[, kernel, degree, gamma, ...]) - Unsupervised Outlier Detection.\n",
    "\n",
    "svm.SVC(*[, C, kernel, degree, gamma, ...]) - C-Support Vector Classification.\n",
    "\n",
    "svm.SVR(*[, kernel, degree, gamma, coef0, ...]) - Epsilon-Support Vector Regression."
   ]
  },
  {
   "cell_type": "markdown",
   "metadata": {},
   "source": [
    "- 한 평면 위에 두 클래스가 있고. 클래스를 나눌 수 있는 여러개의 벡터(선)이 있을 때\n",
    "- 어느 한 벡터와 가장 가까운 각 클래스의 데이터와의 거리의 합을 마진이라고 한다.\n",
    "- 마진이 가장 큰 벡터를 최종 벡터(결정경계)로 선정하여 두 클래스를 분류한다."
   ]
  },
  {
   "cell_type": "markdown",
   "metadata": {},
   "source": [
    "- class sklearn.svm.SVC(*, C=1.0, kernel='rbf', degree=3, gamma='scale', coef0=0.0, shrinking=True, probability=False, tol=0.001, cache_size=200, class_weight=None, verbose=False, max_iter=-1, decision_function_shape='ovr', break_ties=False, random_state=None)\n",
    "  - 보통 C랑 gamma만 수정!"
   ]
  },
  {
   "cell_type": "code",
   "execution_count": 1,
   "metadata": {},
   "outputs": [],
   "source": [
    "from sklearn.svm import SVC"
   ]
  },
  {
   "cell_type": "code",
   "execution_count": 11,
   "metadata": {},
   "outputs": [],
   "source": [
    "from sklearn import datasets\n",
    "iris = datasets.load_iris()\n",
    "X = iris.data\n",
    "y = iris.target\n",
    "\n",
    "from sklearn.model_selection import train_test_split\n",
    "X_train, X_test, y_train, y_test = train_test_split(X, y, test_size=0.2, random_state=121)"
   ]
  },
  {
   "cell_type": "code",
   "execution_count": 12,
   "metadata": {},
   "outputs": [
    {
     "name": "stdout",
     "output_type": "stream",
     "text": [
      "0.9666666666666667\n"
     ]
    }
   ],
   "source": [
    "from sklearn.svm import SVC\n",
    "clf = SVC(gamma=0.001, C=100)\n",
    "clf.fit(X_train, y_train)\n",
    "predictions = clf.predict(X_test)\n",
    "\n",
    "from sklearn.metrics import accuracy_score\n",
    "print(accuracy_score(y_test, predictions))"
   ]
  },
  {
   "cell_type": "markdown",
   "metadata": {},
   "source": [
    "데이터 사이언티스트 : 알고리즘 이렇게 해보자\n",
    "\n",
    "데이터 엔지니어 : 사이언티스트가 짠 수학적 알고리즘을 실제 코딩으로 구현\n",
    "\n",
    "데이터 에널리스트 : 통계적 기법"
   ]
  },
  {
   "cell_type": "code",
   "execution_count": null,
   "metadata": {},
   "outputs": [],
   "source": []
  },
  {
   "cell_type": "markdown",
   "metadata": {},
   "source": [
    "---"
   ]
  },
  {
   "cell_type": "markdown",
   "metadata": {},
   "source": [
    "# 2. KNN\n",
    "## 2.1 knn 학습, 예측"
   ]
  },
  {
   "cell_type": "markdown",
   "metadata": {},
   "source": [
    "2.1.1 data split"
   ]
  },
  {
   "cell_type": "code",
   "execution_count": 15,
   "metadata": {},
   "outputs": [],
   "source": [
    "from sklearn.datasets import load_iris\n",
    "iris = load_iris()\n",
    "#print(iris.data)\n",
    "\n",
    "from sklearn.model_selection import train_test_split\n",
    "X = iris.data\n",
    "y = iris.target\n",
    "# (80:20)으로 분할한다.\n",
    "X_train,X_test,y_train,y_test = train_test_split(X,y,test_size=0.2,random_state=4)"
   ]
  },
  {
   "cell_type": "markdown",
   "metadata": {},
   "source": [
    "2.1.2 knn try"
   ]
  },
  {
   "cell_type": "code",
   "execution_count": 16,
   "metadata": {},
   "outputs": [
    {
     "data": {
      "text/plain": [
       "0.9666666666666667"
      ]
     },
     "execution_count": 16,
     "metadata": {},
     "output_type": "execute_result"
    }
   ],
   "source": [
    "from sklearn.neighbors import KNeighborsClassifier #knn\n",
    "from sklearn import metrics\n",
    "\n",
    "knn = KNeighborsClassifier(n_neighbors=6)\n",
    "knn.fit(X_train, y_train)\n",
    "\n",
    "y_pred = knn.predict(X_test)\n",
    "scores = metrics.accuracy_score(y_test, y_pred)\n",
    "scores"
   ]
  },
  {
   "cell_type": "markdown",
   "metadata": {},
   "source": [
    "2.1.3 새로운 데이터 제시"
   ]
  },
  {
   "cell_type": "code",
   "execution_count": 21,
   "metadata": {},
   "outputs": [
    {
     "name": "stdout",
     "output_type": "stream",
     "text": [
      "versicolor\n",
      "setosa\n"
     ]
    }
   ],
   "source": [
    "knn = KNeighborsClassifier(n_neighbors=5)\n",
    "knn.fit(X, y)\n",
    "\n",
    "#0 = setosa, 1=versicolor, 2=virginica\n",
    "classes = {0:'setosa',1:'versicolor',2:'virginica'}\n",
    "\n",
    "# 아직 보지 못한 새로운 데이터를 제시해보자.\n",
    "x_new = [[3,4,5,2], [5,4,2,2]]\n",
    "y_predict = knn.predict(x_new)\n",
    "print(classes[y_predict[0]])\n",
    "print(classes[y_predict[1]])"
   ]
  },
  {
   "cell_type": "markdown",
   "metadata": {},
   "source": [
    "## 2.1 gridsearch를 사용해 최적모델 생성\n",
    "#### gridsearch - p.97"
   ]
  },
  {
   "cell_type": "code",
   "execution_count": 25,
   "metadata": {},
   "outputs": [
    {
     "data": {
      "text/html": [
       "<div>\n",
       "<style scoped>\n",
       "    .dataframe tbody tr th:only-of-type {\n",
       "        vertical-align: middle;\n",
       "    }\n",
       "\n",
       "    .dataframe tbody tr th {\n",
       "        vertical-align: top;\n",
       "    }\n",
       "\n",
       "    .dataframe thead th {\n",
       "        text-align: right;\n",
       "    }\n",
       "</style>\n",
       "<table border=\"1\" class=\"dataframe\">\n",
       "  <thead>\n",
       "    <tr style=\"text-align: right;\">\n",
       "      <th></th>\n",
       "      <th>params</th>\n",
       "      <th>mean_test_score</th>\n",
       "      <th>rank_test_score</th>\n",
       "    </tr>\n",
       "  </thead>\n",
       "  <tbody>\n",
       "    <tr>\n",
       "      <th>0</th>\n",
       "      <td>{'n_neighbors': 3}</td>\n",
       "      <td>0.966667</td>\n",
       "      <td>7</td>\n",
       "    </tr>\n",
       "    <tr>\n",
       "      <th>1</th>\n",
       "      <td>{'n_neighbors': 4}</td>\n",
       "      <td>0.958333</td>\n",
       "      <td>8</td>\n",
       "    </tr>\n",
       "    <tr>\n",
       "      <th>2</th>\n",
       "      <td>{'n_neighbors': 5}</td>\n",
       "      <td>0.975000</td>\n",
       "      <td>3</td>\n",
       "    </tr>\n",
       "    <tr>\n",
       "      <th>3</th>\n",
       "      <td>{'n_neighbors': 6}</td>\n",
       "      <td>0.975000</td>\n",
       "      <td>3</td>\n",
       "    </tr>\n",
       "    <tr>\n",
       "      <th>4</th>\n",
       "      <td>{'n_neighbors': 7}</td>\n",
       "      <td>0.983333</td>\n",
       "      <td>2</td>\n",
       "    </tr>\n",
       "    <tr>\n",
       "      <th>5</th>\n",
       "      <td>{'n_neighbors': 8}</td>\n",
       "      <td>0.975000</td>\n",
       "      <td>3</td>\n",
       "    </tr>\n",
       "    <tr>\n",
       "      <th>6</th>\n",
       "      <td>{'n_neighbors': 9}</td>\n",
       "      <td>0.991667</td>\n",
       "      <td>1</td>\n",
       "    </tr>\n",
       "    <tr>\n",
       "      <th>7</th>\n",
       "      <td>{'n_neighbors': 10}</td>\n",
       "      <td>0.975000</td>\n",
       "      <td>3</td>\n",
       "    </tr>\n",
       "  </tbody>\n",
       "</table>\n",
       "</div>"
      ],
      "text/plain": [
       "                params  mean_test_score  rank_test_score\n",
       "0   {'n_neighbors': 3}         0.966667                7\n",
       "1   {'n_neighbors': 4}         0.958333                8\n",
       "2   {'n_neighbors': 5}         0.975000                3\n",
       "3   {'n_neighbors': 6}         0.975000                3\n",
       "4   {'n_neighbors': 7}         0.983333                2\n",
       "5   {'n_neighbors': 8}         0.975000                3\n",
       "6   {'n_neighbors': 9}         0.991667                1\n",
       "7  {'n_neighbors': 10}         0.975000                3"
      ]
     },
     "execution_count": 25,
     "metadata": {},
     "output_type": "execute_result"
    }
   ],
   "source": [
    "from sklearn.neighbors import KNeighborsClassifier\n",
    "from sklearn.model_selection import GridSearchCV\n",
    "import pandas as pd\n",
    "\n",
    "knn = KNeighborsClassifier()\n",
    "parameters = {\"n_neighbors\":[3,4,5,6,7,8,9,10]}\n",
    "\n",
    "grid_knn = GridSearchCV(knn, param_grid=parameters, cv=3, refit=True)\n",
    "grid_knn.fit(X_train, y_train)\n",
    "\n",
    "scores_df = pd.DataFrame(grid_knn.cv_results_)\n",
    "scores_df[[\"params\", \"mean_test_score\", \"rank_test_score\"]]\n",
    "\n",
    "# n_neighbors가 9일 때 score 최고!\n"
   ]
  },
  {
   "cell_type": "code",
   "execution_count": null,
   "metadata": {},
   "outputs": [],
   "source": []
  },
  {
   "cell_type": "code",
   "execution_count": null,
   "metadata": {},
   "outputs": [],
   "source": []
  },
  {
   "cell_type": "markdown",
   "metadata": {},
   "source": [
    "rss: residual sum of squared\n",
    "\n",
    "mse: mean squared error"
   ]
  },
  {
   "cell_type": "code",
   "execution_count": null,
   "metadata": {},
   "outputs": [],
   "source": []
  },
  {
   "cell_type": "code",
   "execution_count": null,
   "metadata": {},
   "outputs": [],
   "source": []
  },
  {
   "cell_type": "code",
   "execution_count": null,
   "metadata": {},
   "outputs": [],
   "source": []
  },
  {
   "cell_type": "code",
   "execution_count": null,
   "metadata": {},
   "outputs": [],
   "source": []
  }
 ],
 "metadata": {
  "kernelspec": {
   "display_name": "Python 3.8.5 ('base')",
   "language": "python",
   "name": "python3"
  },
  "language_info": {
   "codemirror_mode": {
    "name": "ipython",
    "version": 3
   },
   "file_extension": ".py",
   "mimetype": "text/x-python",
   "name": "python",
   "nbconvert_exporter": "python",
   "pygments_lexer": "ipython3",
   "version": "3.8.5"
  },
  "orig_nbformat": 4,
  "vscode": {
   "interpreter": {
    "hash": "c97f18ea1c0f4969cf594a5df9f14ba2a838cf106fc5300ddecce29d9d6f0c71"
   }
  }
 },
 "nbformat": 4,
 "nbformat_minor": 2
}
