{
 "cells": [
  {
   "cell_type": "markdown",
   "metadata": {},
   "source": [
    "# NLP   \n",
    "Natural Language Processing  \n",
    "\n",
    "---"
   ]
  },
  {
   "cell_type": "markdown",
   "metadata": {},
   "source": [
    "ㅇ NLP : 음성이나 텍스트를 컴퓨터가 인식하고 처리하는 것  \n",
    "ㅇ 토큰 : 텍스트를 나눈 단위.(단어별, 문장별, 형태소별)  \n",
    "ㅇ 토큰화 : 입력된 텍스트를 잘게 나누는 과정  \n",
    "ㅇ Bag-of-Words : 같은 단어끼리 가방에 담아 몇개의 단어가 들어있는지 세는기법  \n"
   ]
  },
  {
   "cell_type": "markdown",
   "metadata": {},
   "source": [
    "# 1. 토큰화"
   ]
  },
  {
   "cell_type": "code",
   "execution_count": 11,
   "metadata": {},
   "outputs": [],
   "source": [
    "import numpy\n",
    "import tensorflow as tf\n",
    "from numpy import array\n",
    "from tensorflow.keras.preprocessing.text import Tokenizer\n",
    "from tensorflow.keras.preprocessing.sequence import pad_sequences\n",
    "from tensorflow.keras.models import Sequential\n",
    "from tensorflow.keras.layers import Dense, Flatten, Embedding"
   ]
  },
  {
   "cell_type": "markdown",
   "metadata": {},
   "source": [
    "## 1-1. 토큰화  \n",
    "by \"text_to_word_sequence\""
   ]
  },
  {
   "cell_type": "code",
   "execution_count": null,
   "metadata": {},
   "outputs": [],
   "source": [
    "# 주어진 문장을 단어로 토큰화 하기\n",
    "from tensorflow.keras.preprocessing.text import text_to_word_sequence\n",
    "\n",
    "# [토큰화 라이브러리]  \n",
    "\"\"\"\n",
    "tf.keras.preprocessing.text.text_to_word_sequence(\n",
    "    input_text,\n",
    "    filters='!\"#$%&()*+,-./:;<=>?@[\\\\]^_`{|}~\\t\\n',\n",
    "    lower=True,\n",
    "    split=' '\n",
    ")\n",
    "\"\"\""
   ]
  },
  {
   "cell_type": "code",
   "execution_count": 9,
   "metadata": {},
   "outputs": [
    {
     "name": "stdout",
     "output_type": "stream",
     "text": [
      "\n",
      "원문 :\n",
      " 해보지 않으면 해를 볼 수 없다.\n",
      "\n",
      "토큰화 :\n",
      " ['해보지', '않으면', '해를', '볼', '수', '없다']\n"
     ]
    }
   ],
   "source": [
    "# 전처리할 텍스트\n",
    "text = \"해보지 않으면 해를 볼 수 없다.\"\n",
    "\n",
    "# 토큰화\n",
    "result = text_to_word_sequence(\n",
    "    text,\n",
    "    filters='!\"#$%&()*+,-./:;<=>?@[\\\\]^_`{|}~\\t\\n', # filter를 함으로서 .이 사라짐\n",
    "    lower=True, # 대문자를 다 소문자로\n",
    "    split=' ' # 공백 기준으로 토큰화. split하는 기준은 양쪽을 토큰화하고 자신은 토큰화되지 않고 사라진다.\n",
    ")\n",
    "\n",
    "print(\"\\n원문 :\\n\", text)\n",
    "print(\"\\n토큰화 :\\n\", result)"
   ]
  },
  {
   "cell_type": "markdown",
   "metadata": {},
   "source": [
    "## 1-2. 단어 빈도 확인(Bag-of-Words)"
   ]
  },
  {
   "cell_type": "code",
   "execution_count": 13,
   "metadata": {},
   "outputs": [],
   "source": [
    "# 단어 빈도수 세기\n",
    "docs = [\"먼저 텍스트의 각 단어를 나누어 토큰화 합니다\",\n",
    "    \"텍스트의 단어로 토큰화 해야 딥러닝에서 인식됩니다.\",\n",
    "    \"토큰화 한 결과는 딥러닝에서 사용 할 수 있습니다.\",\n",
    "    ]"
   ]
  },
  {
   "cell_type": "code",
   "execution_count": 15,
   "metadata": {},
   "outputs": [
    {
     "name": "stdout",
     "output_type": "stream",
     "text": [
      "\n",
      "단어 카운트 :\n",
      " OrderedDict([('먼저', 1), ('텍스트의', 2), ('각', 1), ('단어를', 1), ('나누어', 1), ('토큰화', 3), ('합니다', 1), ('단어로', 1), ('해야', 1), ('딥러닝에서', 2), ('인식됩니다', 1), ('한', 1), ('결과는', 1), ('사용', 1), ('할', 1), ('수', 1), ('있습니다', 1)])\n",
      "\n",
      "문장 카운트 :  3 개\n",
      "\n",
      "각 단어가 몇개의 문장에 포함되어 있는가 :\n",
      " defaultdict(<class 'int'>, {'각': 1, '단어를': 1, '합니다': 1, '먼저': 1, '나누어': 1, '토큰화': 3, '텍스트의': 2, '해야': 1, '딥러닝에서': 2, '단어로': 1, '인식됩니다': 1, '있습니다': 1, '사용': 1, '할': 1, '수': 1, '한': 1, '결과는': 1})\n",
      "\n",
      "각 단어에 매겨진 인덱스 값 :\n",
      " {'토큰화': 1, '텍스트의': 2, '딥러닝에서': 3, '먼저': 4, '각': 5, '단어를': 6, '나누어': 7, '합니다': 8, '단어로': 9, '해야': 10, '인식됩니다': 11, '한': 12, '결과는': 13, '사용': 14, '할': 15, '수': 16, '있습니다': 17}\n"
     ]
    }
   ],
   "source": [
    "token = Tokenizer()\n",
    "token.fit_on_texts(docs) # 토큰화 함수에 문장 적용\n",
    "\n",
    "print(\"\\n단어 카운트 :\\n\", token.word_counts) # 단어(word)의 빈도수 출력\n",
    "print(\"\\n문장 카운트 : \", token.document_count, \"개\") # 문장(document)의 빈도수 출력\n",
    "print(\"\\n각 단어가 몇개의 문장에 포함되어 있는가 :\\n\", token.word_docs) # word가 몇개의 문장에?\n",
    "print(\"\\n각 단어에 매겨진 인덱스 값 :\\n\", token.word_index) # word별로 index 매기기"
   ]
  },
  {
   "cell_type": "markdown",
   "metadata": {},
   "source": [
    "## 1-3. one-hotencoding"
   ]
  },
  {
   "cell_type": "code",
   "execution_count": 16,
   "metadata": {},
   "outputs": [
    {
     "name": "stdout",
     "output_type": "stream",
     "text": [
      "문장의 토큰화 : {'오랫동안': 1, '꿈꾸는': 2, '자는': 3, '그': 4, '꿈을': 5, '닮아간다': 6}\n",
      "문장의 숫자화:  [[1, 2, 3, 4, 5, 6]]\n",
      "문장의 원핫 인코딩 :\n",
      " [[[0. 1. 0. 0. 0. 0. 0.]\n",
      "  [0. 0. 1. 0. 0. 0. 0.]\n",
      "  [0. 0. 0. 1. 0. 0. 0.]\n",
      "  [0. 0. 0. 0. 1. 0. 0.]\n",
      "  [0. 0. 0. 0. 0. 1. 0.]\n",
      "  [0. 0. 0. 0. 0. 0. 1.]]]\n"
     ]
    }
   ],
   "source": [
    "from tensorflow.keras.preprocessing.text import Tokenizer\n",
    "\n",
    "text = \"오랫동안 꿈꾸는 자는 그 꿈을 닮아간다\"\n",
    "\n",
    "token = Tokenizer()\n",
    "token.fit_on_texts([text])\n",
    "print(\"문장의 토큰화 :\", token.word_index)\n",
    "\n",
    "# 각단어를 숫자화(1~n)\n",
    "x = token.texts_to_sequences([text])\n",
    "print(\"문장의 숫자화: \", x)\n",
    "\n",
    "\n",
    "# 원핫인코딩 방식으로 표현\n",
    "from keras.utils import to_categorical\n",
    "\n",
    "word_size =len(token.word_index) + 1\n",
    "x = to_categorical(x, num_classes=word_size)\n",
    "print(\"문장의 원핫 인코딩 :\\n\", x)"
   ]
  },
  {
   "cell_type": "markdown",
   "metadata": {},
   "source": [
    "---\n",
    "# 2. Embedding  \n",
    "word embedding은 주어진 배열울 정해진 길이로 압축시켜 공간적 낭비를 해결"
   ]
  },
  {
   "cell_type": "markdown",
   "metadata": {},
   "source": [
    "<img width=\"515\" alt=\"image\" src=\"https://user-images.githubusercontent.com/88031549/200708435-c4a59a61-4c91-4e72-971a-37c1ff116926.png\">\n"
   ]
  },
  {
   "cell_type": "code",
   "execution_count": 2,
   "metadata": {},
   "outputs": [],
   "source": [
    "import tensorflow as tf\n",
    "import numpy as np\n",
    "from tensorflow.keras.preprocessing.text import Tokenizer"
   ]
  },
  {
   "cell_type": "markdown",
   "metadata": {},
   "source": [
    "## 2-1. 토큰화 & 인덱싱"
   ]
  },
  {
   "cell_type": "code",
   "execution_count": 10,
   "metadata": {},
   "outputs": [
    {
     "name": "stdout",
     "output_type": "stream",
     "text": [
      "[[1, 2], [3], [4, 5, 6, 7], [8, 9, 10], [11, 12, 13], [14], [15], [16, 17], [18, 19], [20]]\n"
     ]
    }
   ],
   "source": [
    "docs = [\"너무 재밌네요\",\"최고예요\",\"참 잘 만든 영화예요\",\"추천하고 싶은 영화입니다\",\"한번 더 보고싶네요\",\"글쎄요\",\"별로예요\",\"생각보다 지루하네요\",\"연기가 어색해요\",\"재미없어요\"]\n",
    "token = Tokenizer()\n",
    "token.fit_on_texts(docs)\n",
    "x = token.texts_to_sequences(docs)\n",
    "print(x)"
   ]
  },
  {
   "cell_type": "markdown",
   "metadata": {},
   "source": [
    "## 2-2. Labeling"
   ]
  },
  {
   "cell_type": "code",
   "execution_count": 11,
   "metadata": {},
   "outputs": [
    {
     "data": {
      "text/plain": [
       "array([1, 1, 1, 1, 1, 0, 0, 0, 0, 0])"
      ]
     },
     "execution_count": 11,
     "metadata": {},
     "output_type": "execute_result"
    }
   ],
   "source": [
    "# Labeling\n",
    "# 긍정리뷰는 1, 부정리뷰는 0으로 클래스 지정\n",
    "import numpy as np\n",
    "y = np.array([1,1,1,1,1,0,0,0,0,0])\n",
    "y"
   ]
  },
  {
   "cell_type": "markdown",
   "metadata": {},
   "source": [
    "## 2-3. Padding  \n",
    ": 길이를 똑같이 맞춰 주는 작업. 길이가 짧은 부분을 0으로 채워줌"
   ]
  },
  {
   "cell_type": "code",
   "execution_count": 12,
   "metadata": {},
   "outputs": [
    {
     "data": {
      "text/plain": [
       "array([[ 0,  0,  1,  2],\n",
       "       [ 0,  0,  0,  3],\n",
       "       [ 4,  5,  6,  7],\n",
       "       [ 0,  8,  9, 10],\n",
       "       [ 0, 11, 12, 13],\n",
       "       [ 0,  0,  0, 14],\n",
       "       [ 0,  0,  0, 15],\n",
       "       [ 0,  0, 16, 17],\n",
       "       [ 0,  0, 18, 19],\n",
       "       [ 0,  0,  0, 20]], dtype=int32)"
      ]
     },
     "execution_count": 12,
     "metadata": {},
     "output_type": "execute_result"
    }
   ],
   "source": [
    "from tensorflow.keras.preprocessing.sequence import pad_sequences\n",
    "\n",
    "pad_x = pad_sequences(x, padding=\"pre\") # 가장 큰 갯수 4개에 맞춰서, 다른 문장 앞에 0을 채워 넣는다.(학습시키는 컬럼수가 같아야하기에)\n",
    "pad_x"
   ]
  },
  {
   "cell_type": "markdown",
   "metadata": {},
   "source": [
    "## 2-4. Embedding(+DNN)"
   ]
  },
  {
   "cell_type": "code",
   "execution_count": 23,
   "metadata": {},
   "outputs": [],
   "source": [
    "# 간단한 딥러닝\n",
    "from tensorflow.keras.models import Sequential\n",
    "from tensorflow.keras.layers import Dense, Flatten, Embedding\n",
    "\n",
    "input_dim = len(token.word_index)+1 # 전체 단어의 맨 앞에 0이 먼저 나와야해서 +1\n",
    "\n",
    "model = Sequential()\n",
    "model.add(Embedding(input_dim, 8, input_length=4)) # length=4(위에 인덱싱 최대크기)\n",
    "model.add(Flatten()) # Flatten 안쓰려면 y = y.reshape(-1,1) 해줘야함\n",
    "model.add(Dense(1, activation=\"sigmoid\"))\n",
    "\n",
    "model.compile(optimizer=\"adam\", loss=\"binary_crossentropy\", metrics=[\"accuracy\"])"
   ]
  },
  {
   "cell_type": "code",
   "execution_count": null,
   "metadata": {},
   "outputs": [],
   "source": [
    "model.fit(pad_x, y, epochs=20)"
   ]
  },
  {
   "cell_type": "code",
   "execution_count": 26,
   "metadata": {},
   "outputs": [
    {
     "name": "stdout",
     "output_type": "stream",
     "text": [
      "1/1 [==============================] - 0s 322ms/step - loss: 0.6591 - accuracy: 0.8000\n",
      "\n",
      " Accuracy: 0.8000\n"
     ]
    }
   ],
   "source": [
    "print(\"\\n Accuracy: %.4f\" % (model.evaluate(pad_x, y)[1]))"
   ]
  },
  {
   "cell_type": "markdown",
   "metadata": {},
   "source": [
    "끝!"
   ]
  }
 ],
 "metadata": {
  "kernelspec": {
   "display_name": "Python 3.10.6 ('py310')",
   "language": "python",
   "name": "python3"
  },
  "language_info": {
   "codemirror_mode": {
    "name": "ipython",
    "version": 3
   },
   "file_extension": ".py",
   "mimetype": "text/x-python",
   "name": "python",
   "nbconvert_exporter": "python",
   "pygments_lexer": "ipython3",
   "version": "3.10.6"
  },
  "orig_nbformat": 4,
  "vscode": {
   "interpreter": {
    "hash": "5d1ee4cf14d021861378c31d674abc774f58069cf7587f114521239d6c617ed3"
   }
  }
 },
 "nbformat": 4,
 "nbformat_minor": 2
}
