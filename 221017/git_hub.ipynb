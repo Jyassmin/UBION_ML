{
 "cells": [
  {
   "cell_type": "markdown",
   "metadata": {},
   "source": [
    "# GIT\n",
    "(2022/10/17)"
   ]
  },
  {
   "cell_type": "markdown",
   "metadata": {},
   "source": [
    "---"
   ]
  },
  {
   "cell_type": "markdown",
   "metadata": {},
   "source": [
    "# 1. GIT command"
   ]
  },
  {
   "cell_type": "markdown",
   "metadata": {},
   "source": [
    "- 버전확인 : git --version\n",
    "- 숨김파일 표시, 숨기기 : command + shift + .\n",
    "- 브랜치 확인 : git log --graph\n",
    "- commit 확인 : git log"
   ]
  },
  {
   "cell_type": "markdown",
   "metadata": {},
   "source": [
    "1 )\n",
    "- cd로 해당 파일 들어가서 git init 하여 초기화\n",
    "\n",
    "2 )\n",
    "- 버전으로 관리하고자하는 파일을 추가하는 명령어 : git add 파일명\n",
    "- 현재 위치에 있는 모든 파일을 추가하는 명령어 : git add .\n",
    "- commit에서 제외하고 싶은 파일이 있다면 .ignore에 등록\n",
    "\n",
    "3 )\n",
    "- git에 최종 제출하는 명령어 : git commit -m \"버전명\"\n"
   ]
  },
  {
   "cell_type": "markdown",
   "metadata": {},
   "source": [
    "- 수정자 등록(로그인)\n",
    "    - git config --global user.name \"Jyassmin\"\n",
    "    - git config --global user.email \"sa7568@gmail.com\"\n",
    "- 수정로그 확인\n",
    "    - git log"
   ]
  },
  {
   "cell_type": "code",
   "execution_count": null,
   "metadata": {},
   "outputs": [],
   "source": []
  },
  {
   "cell_type": "markdown",
   "metadata": {},
   "source": [
    "---"
   ]
  },
  {
   "cell_type": "markdown",
   "metadata": {},
   "source": [
    "# 2. github (repository) 사용\n",
    "- git은 형상관리 도구이고 버전을 저장하는 클라우드가 git-hub이다.\n",
    "### 1 ) repository 등록\n",
    "- echo \"# COTE\" >> README.md    #readme파일생성\n",
    "- git init\n",
    "- git add . (or README.md)  #수정파일추가\n",
    "- git commit -m \"first commit\"  #수정파일등록\n",
    "- git branch -M main  #main가지를 만듦\n",
    "- git remote add origin https://github.com/Jyassmin/COTE.git  #레파짓에 연결\n",
    "- git push -u origin main #최종업뎃(젤 마지막에 한 번)"
   ]
  },
  {
   "cell_type": "markdown",
   "metadata": {},
   "source": [
    "### 2 ) 등록 후 작업 시. 아래만 사용\n",
    "- git add .\n",
    "- git commit -m \"버전명\"\n",
    "- git push -u origin main"
   ]
  },
  {
   "cell_type": "markdown",
   "metadata": {},
   "source": [
    "### 3 ) 이전버전 불러오기\n",
    "- git log 또는 홈페이지에서 이전 버전 commit ID 확인\n",
    "- git reset {이전 version 커밋 아이디} --hard : 현재 폴더 리셋하고 이전 버전 파일들로 채워줌."
   ]
  },
  {
   "cell_type": "code",
   "execution_count": null,
   "metadata": {},
   "outputs": [],
   "source": []
  },
  {
   "cell_type": "markdown",
   "metadata": {},
   "source": [
    "---"
   ]
  },
  {
   "cell_type": "markdown",
   "metadata": {},
   "source": [
    "# 3. GITHUB 홈페이지"
   ]
  },
  {
   "cell_type": "markdown",
   "metadata": {},
   "source": [
    "### 1 ) ruby를 사용하여 웹 작성\n",
    "- setting. ruby와 bundler를 먼저 설치(brew)\n",
    "- 블로그 파일을 저장할 경로(cd)에 들어가기 \"cd ./repository\"\n",
    "- bundle install\n",
    "- 블로그 폴더 생성(폴더명:myblog) : \"jekyll new myblog\"\n",
    "- ***페이지 생성\n",
    "  - a ) myblog/posts에 새로운 파일을 만든 후 위에 형식만 이전파일에서 가져오고, 아래에는 md파일 code를 작성\n",
    "  - b ) 위처럼 markdown을 따로 작성하는 방법이외에, notion에서 이쁘게 작성한 뒤에 md파일로 내보내기하여 md code를 작성해도 좋음\n",
    "  - 작성한 md code를 새로운 파일에다가 넣기\n",
    "- 오프라인 서버 오픈(/myblog에서) : bundle exec jekyll serve --trace\n",
    "  - http://127.0.0.1:4000/ 에서 확인(오프라인)"
   ]
  },
  {
   "cell_type": "markdown",
   "metadata": {},
   "source": [
    "### 2 ) github repositrory와 연동(세팅이라 한 번만)\n",
    "- myblog에 있는 \"_config_yml\"에 들어가 \"future: true\"를 삽입\n",
    "- (아래는 터미널에서)\n",
    "- git init\n",
    "- git add .\n",
    "- git commit -m \"First Commit\"\n",
    "- git branch -M main\n",
    "- git remote add origin \"https://github.com/Jyassmin/Jyassmin.git- git\"\n",
    "- git push -u origin +main  #+main을 함으로서 강제 푸쉬"
   ]
  },
  {
   "cell_type": "markdown",
   "metadata": {},
   "source": [
    "### 3 ) 이후 실제 웹 사용 시\n",
    "- posts에서 포스팅 페이지 추가, 수정 후\n",
    "- (/Repository/myblog에서)\n",
    "- git add .\n",
    "- git commit - m \"버전이름\"\n",
    "- git push -u origin +main\n"
   ]
  },
  {
   "cell_type": "markdown",
   "metadata": {},
   "source": [
    "### 4 ) 이미지 포스팅 방법\n",
    "- github -> issues에서 new issue를 클릭하고\n",
    "- box안에 이미지를 끌어다가 drop하면 이미지가 주소에 저장된다.\n",
    "- 생성된 주소코드를 posts에 작성된 md파일 안에 집어다 넣으면 이미지가 깨지지 않고 계속 보여짐"
   ]
  },
  {
   "cell_type": "code",
   "execution_count": null,
   "metadata": {},
   "outputs": [],
   "source": []
  }
 ],
 "metadata": {
  "kernelspec": {
   "display_name": "Python 3.8.5 ('base')",
   "language": "python",
   "name": "python3"
  },
  "language_info": {
   "name": "python",
   "version": "3.8.5"
  },
  "orig_nbformat": 4,
  "vscode": {
   "interpreter": {
    "hash": "c97f18ea1c0f4969cf594a5df9f14ba2a838cf106fc5300ddecce29d9d6f0c71"
   }
  }
 },
 "nbformat": 4,
 "nbformat_minor": 2
}
