{
 "cells": [
  {
   "cell_type": "markdown",
   "metadata": {},
   "source": [
    "# GIT"
   ]
  },
  {
   "cell_type": "markdown",
   "metadata": {},
   "source": [
    "- 버전확인 : git --version\n",
    "- 숨김파일 표시, 숨기기 : command + shift + .\n",
    "- 브랜치 확인 : git log --graph\n",
    "- commit 확인 : git log"
   ]
  },
  {
   "cell_type": "markdown",
   "metadata": {},
   "source": [
    "1.\n",
    "- cd로 해당 파일 들어가서 git init 하여 초기화\n",
    "2.\n",
    "- 버전으로 관리하고자하는 파일을 추가하는 명령어 : git add 파일명\n",
    "- 현재 위치에 있는 모든 파일을 추가하는 명령어 : git add .\n",
    "- commit에서 제외하고 싶은 파일이 있다면 .ignore에 등록\n",
    "3.\n",
    "- git에 최종 제출하는 명령어 : git commit -m \"버전명\"\n"
   ]
  },
  {
   "cell_type": "markdown",
   "metadata": {},
   "source": [
    "- 수정자 등록(로그인)\n",
    "    - git config --global user.name \"Jyassmin\"\n",
    "    - git config --global user.email \"sa7568@gmail.com\"\n",
    "- 수정로그 확인\n",
    "    - git log"
   ]
  },
  {
   "cell_type": "markdown",
   "metadata": {},
   "source": [
    "---\n",
    "\n",
    "git은 형상관리 도구이고 버전을 저장하는 클라우드가 git-hub이다."
   ]
  },
  {
   "cell_type": "markdown",
   "metadata": {},
   "source": [
    "## *github 사용\n",
    "### 1. repository 등록\n",
    "- echo \"# COTE\" >> README.md    #readme파일생성\n",
    "- git init\n",
    "- git add . (or README.md)  #수정파일추가\n",
    "- git commit -m \"first commit\"  #수정파일등록\n",
    "- git branch -M main  #main가지를 만듦\n",
    "- git remote add origin https://github.com/Jyassmin/COTE.git  #레파짓에 연결\n",
    "- git push -u origin main #최종업뎃(젤 마지막에 한 번)"
   ]
  },
  {
   "cell_type": "markdown",
   "metadata": {},
   "source": [
    "### 2. 등록 후 작업 시. 아래만 사용\n",
    "- add\n",
    "- commit\n",
    "- push"
   ]
  },
  {
   "cell_type": "markdown",
   "metadata": {},
   "source": [
    "### 3. 이전버전 불러오기\n",
    "- git log 또는 홈페이지에서 이전 버전 commit ID 확인\n",
    "- git reset {이전 version 커밋 아이디} --hard : 현재 폴더 리셋하고 이전 버전 파일들로 채워줌."
   ]
  },
  {
   "cell_type": "code",
   "execution_count": null,
   "metadata": {},
   "outputs": [],
   "source": []
  },
  {
   "cell_type": "code",
   "execution_count": null,
   "metadata": {},
   "outputs": [],
   "source": []
  },
  {
   "cell_type": "code",
   "execution_count": null,
   "metadata": {},
   "outputs": [],
   "source": []
  },
  {
   "cell_type": "code",
   "execution_count": null,
   "metadata": {},
   "outputs": [],
   "source": []
  },
  {
   "cell_type": "code",
   "execution_count": null,
   "metadata": {},
   "outputs": [],
   "source": []
  },
  {
   "cell_type": "code",
   "execution_count": null,
   "metadata": {},
   "outputs": [],
   "source": []
  },
  {
   "cell_type": "code",
   "execution_count": null,
   "metadata": {},
   "outputs": [],
   "source": []
  },
  {
   "cell_type": "code",
   "execution_count": null,
   "metadata": {},
   "outputs": [],
   "source": []
  },
  {
   "cell_type": "code",
   "execution_count": null,
   "metadata": {},
   "outputs": [],
   "source": []
  },
  {
   "cell_type": "code",
   "execution_count": null,
   "metadata": {},
   "outputs": [],
   "source": []
  },
  {
   "cell_type": "code",
   "execution_count": null,
   "metadata": {},
   "outputs": [],
   "source": []
  },
  {
   "cell_type": "code",
   "execution_count": null,
   "metadata": {},
   "outputs": [],
   "source": []
  },
  {
   "cell_type": "code",
   "execution_count": null,
   "metadata": {},
   "outputs": [],
   "source": []
  },
  {
   "cell_type": "code",
   "execution_count": null,
   "metadata": {},
   "outputs": [],
   "source": []
  },
  {
   "cell_type": "code",
   "execution_count": null,
   "metadata": {},
   "outputs": [],
   "source": []
  }
 ],
 "metadata": {
  "kernelspec": {
   "display_name": "Python 3.8.5 ('base')",
   "language": "python",
   "name": "python3"
  },
  "language_info": {
   "name": "python",
   "version": "3.8.5"
  },
  "orig_nbformat": 4,
  "vscode": {
   "interpreter": {
    "hash": "c97f18ea1c0f4969cf594a5df9f14ba2a838cf106fc5300ddecce29d9d6f0c71"
   }
  }
 },
 "nbformat": 4,
 "nbformat_minor": 2
}
