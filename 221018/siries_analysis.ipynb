{
 "cells": [
  {
   "cell_type": "markdown",
   "metadata": {},
   "source": [
    "# [시계열 예측]\n",
    "---"
   ]
  },
  {
   "cell_type": "markdown",
   "metadata": {},
   "source": [
    "# 1. 변동의 종류"
   ]
  },
  {
   "cell_type": "markdown",
   "metadata": {},
   "source": [
    "> 추세변동(trend variation)  \n",
    "> 순환변동(cyclical variation)  \n",
    "> 계절변동(seasonal variation  \n",
    "> 위 변동요인을 동시에 갖는 변동\n",
    "> 불규칙변동(irregular variation or random variation)"
   ]
  },
  {
   "cell_type": "markdown",
   "metadata": {},
   "source": [
    "---"
   ]
  },
  {
   "cell_type": "markdown",
   "metadata": {},
   "source": [
    "# 2. 평활화 기법\n",
    "## 1 ) SMA(Smoothing Methods Analysis) : 단순이동평균법"
   ]
  },
  {
   "cell_type": "markdown",
   "metadata": {},
   "source": [
    "> - 단순 이동 평균은 가장 일반적인 평균 유형이다.\n",
    "> - SMA에서는 최근 데이터 포인트의 합계를 수행하고 기간별로 나눈다.\n",
    "> - 슬라이딩 너비의 값이 클수록 데이터가 더 평활해지지만, 값이 크면 정확도가 떨어질 수 있다.\n",
    "> - SMA를 계산하기 위해 pandas의 Series.rolling() 메서드를 사용한다."
   ]
  },
  {
   "cell_type": "markdown",
   "metadata": {},
   "source": [
    "### a. Apple 주식을 이용한 단순이동평균(SMA)"
   ]
  },
  {
   "cell_type": "code",
   "execution_count": 27,
   "metadata": {},
   "outputs": [
    {
     "data": {
      "text/html": [
       "<div>\n",
       "<style scoped>\n",
       "    .dataframe tbody tr th:only-of-type {\n",
       "        vertical-align: middle;\n",
       "    }\n",
       "\n",
       "    .dataframe tbody tr th {\n",
       "        vertical-align: top;\n",
       "    }\n",
       "\n",
       "    .dataframe thead th {\n",
       "        text-align: right;\n",
       "    }\n",
       "</style>\n",
       "<table border=\"1\" class=\"dataframe\">\n",
       "  <thead>\n",
       "    <tr style=\"text-align: right;\">\n",
       "      <th></th>\n",
       "      <th>Name</th>\n",
       "      <th>Symbol</th>\n",
       "    </tr>\n",
       "  </thead>\n",
       "  <tbody>\n",
       "    <tr>\n",
       "      <th>45</th>\n",
       "      <td>Apple Inc.</td>\n",
       "      <td>AAPL</td>\n",
       "    </tr>\n",
       "  </tbody>\n",
       "</table>\n",
       "</div>"
      ],
      "text/plain": [
       "          Name Symbol\n",
       "45  Apple Inc.   AAPL"
      ]
     },
     "execution_count": 27,
     "metadata": {},
     "output_type": "execute_result"
    }
   ],
   "source": [
    "# !pip install finance-datareader   # 설치\n",
    "# !pip install -U finance-datareader # 업데이트\n",
    "\n",
    "\n",
    "# S&P 500에 등록된 모든 종목 리스트 가져와서 Apple사의 Symbol확인\n",
    "import FinanceDataReader as fdr\n",
    "df_spx = fdr.StockListing('S&P500')\n",
    "# df_spx.head(3)\n",
    "\n",
    "df_spx.loc[df_spx[\"Name\"] == \"Apple Inc.\", [\"Name\", \"Symbol\"]]\n",
    "# df_spx.loc[df_spx[\"Name\"] == \"Amazon\", [\"Name\", \"Symbol\"]]  #아마존 symbol"
   ]
  },
  {
   "cell_type": "code",
   "execution_count": 31,
   "metadata": {},
   "outputs": [
    {
     "data": {
      "text/html": [
       "<div>\n",
       "<style scoped>\n",
       "    .dataframe tbody tr th:only-of-type {\n",
       "        vertical-align: middle;\n",
       "    }\n",
       "\n",
       "    .dataframe tbody tr th {\n",
       "        vertical-align: top;\n",
       "    }\n",
       "\n",
       "    .dataframe thead th {\n",
       "        text-align: right;\n",
       "    }\n",
       "</style>\n",
       "<table border=\"1\" class=\"dataframe\">\n",
       "  <thead>\n",
       "    <tr style=\"text-align: right;\">\n",
       "      <th></th>\n",
       "      <th>Close</th>\n",
       "      <th>Open</th>\n",
       "      <th>High</th>\n",
       "      <th>Low</th>\n",
       "      <th>Volume</th>\n",
       "      <th>Change</th>\n",
       "    </tr>\n",
       "    <tr>\n",
       "      <th>Date</th>\n",
       "      <th></th>\n",
       "      <th></th>\n",
       "      <th></th>\n",
       "      <th></th>\n",
       "      <th></th>\n",
       "      <th></th>\n",
       "    </tr>\n",
       "  </thead>\n",
       "  <tbody>\n",
       "    <tr>\n",
       "      <th>2010-01-04</th>\n",
       "      <td>7.64</td>\n",
       "      <td>7.62</td>\n",
       "      <td>7.66</td>\n",
       "      <td>7.58</td>\n",
       "      <td>493730000.0</td>\n",
       "      <td>0.0146</td>\n",
       "    </tr>\n",
       "    <tr>\n",
       "      <th>2010-01-05</th>\n",
       "      <td>7.66</td>\n",
       "      <td>7.66</td>\n",
       "      <td>7.70</td>\n",
       "      <td>7.62</td>\n",
       "      <td>601900000.0</td>\n",
       "      <td>0.0026</td>\n",
       "    </tr>\n",
       "    <tr>\n",
       "      <th>2010-01-06</th>\n",
       "      <td>7.53</td>\n",
       "      <td>7.66</td>\n",
       "      <td>7.69</td>\n",
       "      <td>7.53</td>\n",
       "      <td>552160000.0</td>\n",
       "      <td>-0.0170</td>\n",
       "    </tr>\n",
       "  </tbody>\n",
       "</table>\n",
       "</div>"
      ],
      "text/plain": [
       "            Close  Open  High   Low       Volume  Change\n",
       "Date                                                    \n",
       "2010-01-04   7.64  7.62  7.66  7.58  493730000.0  0.0146\n",
       "2010-01-05   7.66  7.66  7.70  7.62  601900000.0  0.0026\n",
       "2010-01-06   7.53  7.66  7.69  7.53  552160000.0 -0.0170"
      ]
     },
     "execution_count": 31,
     "metadata": {},
     "output_type": "execute_result"
    }
   ],
   "source": [
    "# 애플 가격 데이터 가져오기\n",
    "\n",
    "df_apple = fdr.DataReader(symbol='AAPL', start='2010') # 애플, 2010년~현재\n",
    "# df_apple.date_range(start=\"2020-08\", periods=8, freq=\"W\")\n",
    "## start : 시작일, periods : 생성할 날짜의 개수, freq : 생성할 날짜의 주기\n",
    "df_apple.head(3)"
   ]
  },
  {
   "cell_type": "code",
   "execution_count": 47,
   "metadata": {},
   "outputs": [
    {
     "data": {
      "text/plain": [
       "<AxesSubplot:xlabel='Date'>"
      ]
     },
     "execution_count": 47,
     "metadata": {},
     "output_type": "execute_result"
    },
    {
     "data": {
      "image/png": "[encoded data removed]",
      "text/plain": [
       "<Figure size 720x432 with 1 Axes>"
      ]
     },
     "metadata": {
      "needs_background": "light"
     },
     "output_type": "display_data"
    }
   ],
   "source": [
    "import pandas as pd\n",
    "df_apple[\"Close\"].plot(figsize=(10,6))  # 파랑\n",
    "df_apple[\"Close\"].rolling(window=30).mean().shift(1).plot(figsize=(10,6)) # 30일 이동평균(window), 주황\n",
    "# 1,2,3일 종가로 이동평균(window=3)한 값은 4일 종가와 비교해야하니 shift(1)을 해주어 날짜를 하나 미뤄준다."
   ]
  },
  {
   "cell_type": "markdown",
   "metadata": {},
   "source": [
    "## 2 ) EMA(Exponential Moving Aveage) : 지수평활법\n",
    "> - EMA는새로운 데이터에 더 많은 가중치를 부여하여 최근 데이터에 더욱 초점을맞춘다.\n",
    "> - EMA의 주요 아이디어는 이전 데이터보다 최근 데이터를 더 선호하는 것이다.\n",
    "> - 데이터가 오래될수록 데이터에 할당된 가중치가 줄어듭니다. 이 때문에 EMA는 모든 값에 동일한 가중치가 주어지는 SMA에 비해 추세 변화에 더 민감하다.\n",
    "> - SMA를 계산하기 위해 pandas의 pandas.Series.ewm() 메서드를 사용한다."
   ]
  },
  {
   "cell_type": "markdown",
   "metadata": {},
   "source": [
    "### a. 지수평활법(EMA) 지수비교"
   ]
  },
  {
   "cell_type": "code",
   "execution_count": 43,
   "metadata": {},
   "outputs": [
    {
     "data": {
      "text/plain": [
       "<AxesSubplot:xlabel='index'>"
      ]
     },
     "execution_count": 43,
     "metadata": {},
     "output_type": "execute_result"
    },
    {
     "data": {
      "image/png": "[encoded data removed]",
      "text/plain": [
       "<Figure size 432x288 with 1 Axes>"
      ]
     },
     "metadata": {
      "needs_background": "light"
     },
     "output_type": "display_data"
    }
   ],
   "source": [
    "# test data set 만들기\n",
    "import numpy as np\n",
    "\n",
    "data = {\"val\":[1,4,2,3,2,5,13,10,12,14,np.NaN,16,12,20,22]}\n",
    "df = pd.DataFrame(data).reset_index()\n",
    "df.plot(kind=\"bar\", x=\"index\", y=\"val\")"
   ]
  },
  {
   "cell_type": "code",
   "execution_count": 49,
   "metadata": {},
   "outputs": [
    {
     "data": {
      "image/png": "[encoded data removed]",
      "text/plain": [
       "<Figure size 432x288 with 1 Axes>"
      ]
     },
     "metadata": {
      "needs_background": "light"
     },
     "output_type": "display_data"
    }
   ],
   "source": [
    "# 지수 0.3, 0.7일 때 지수평활법 비교\n",
    "import matplotlib.pyplot as plt\n",
    "\n",
    "df_alpha3 = df.assign(ewm=df[\"val\"].ewm(alpha=0.3).mean()) # 지수 0.3 일 때 data\n",
    "df_alpha7 = df.assign(ewm=df[\"val\"].ewm(alpha=0.7).mean()) # 지수 0.7 일 때 data\n",
    "\n",
    "ax = df.plot(kind=\"bar\", x=\"index\", y=\"val\")  # test data\n",
    "ax2 = df_alpha3.plot(kind=\"line\", x=\"index\", y=\"ewm\", color=\"red\", ax=ax) # test data + 지수 0.3 data(red)\n",
    "ax3 = df_alpha7.plot(kind=\"line\", x=\"index\", y=\"ewm\", color=\"yellow\", ax=ax2) # 위에꺼 + 지수 0.7 data(yellow)\n",
    "# plot을 변수에 저장시켜 ax= 에다가 중첩시키면 data 동시 plot 가능\n",
    "plt.show()"
   ]
  },
  {
   "cell_type": "markdown",
   "metadata": {},
   "source": [
    "---"
   ]
  },
  {
   "cell_type": "markdown",
   "metadata": {},
   "source": [
    "# 3. 자기상관함수(ACF), 부분자기상관함수(PACF)"
   ]
  },
  {
   "cell_type": "markdown",
   "metadata": {},
   "source": [
    "> 자기 상관은 시차(lag)를 적용한 시계열 데이터를 이용하여 계산한다.<br>\n",
    "> ㄴ 시차를 적용한다는 것은 시차만큼 예측값을 뒤로 이동<br><br>\n",
    ">\n",
    "> 주가 시계열 분석을 할 때는 직접 레이블을 만들지 않고 data 자기자신을 레이블 값으로 가짐. 이를 auto regression이라함.<br>\n",
    "> ㄴ SMA나 EWM을 사용해 예측값을 구하고 이를 shift하여 다음날 데이터의 레이블 값이 되도록한다.<br><br>\n",
    ">\n",
    "> ar(auto regression)을 쓰기 위해선 추세가 있으면 안된다. 예측이 어려워짐<br>\n",
    "> ㄴ so, 추세를 제거해야한다.(순환은 어느정도 괜찮다. 추세, 계절은 x)<br><br>"
   ]
  },
  {
   "cell_type": "markdown",
   "metadata": {},
   "source": [
    "## 1 ) **ACF**(AutoCorrelation Fincion)\n",
    "> ACF는 k시간 단위로 구분된 시계열의 관측치 간 상관계수 함수<br>\n",
    "> 자기상관관계(shift한 값(레이블)과 다음날 값으로)를 구하는 함수<br>\n",
    "> y(t) ~ y(t−k) 사이의 y들의 자기상관\n",
    "\n",
    "## 2 ) **PACF**(Partial ACF)\n",
    "> PACF는 y(t)와 y(t-k)간의 순수한 상관관계<br>\n",
    "> 관측값과 실제값의 차이(오차)를 가지고 자기상관관계를 구하는 함수<br>\n",
    "> 그 사이에 존재하는 y(t-1), y(t-2), ,, y(t-k+1)의 영향력은 제거<br>\n",
    "\n",
    "## 3 ) 정상, 비정상 시계열 확인\n",
    "> 정상 시계열 : 평균, 분산이 일정할 때. 추세x\n",
    "- 정상 시계열에서 acf는 상대적으로 빨리 0으로 접근함\n",
    "- 어느 순간 뚝 떨어질 때 거기만큼 shift한다.\n",
    "\n",
    "> 비정상 시계열 : 평균 분산이 일정하지 않을 때. 추세o\n",
    "- 비정상 시계열에서 acf는 천천해 감소하며 종종 큰 양의 값을 가진다.\n",
    "\n",
    "**따라서, 반대로 acf를 사용해서 data가 정상 시계열인지 아닌지 확인할 수 있다!**\n",
    "- acf가 뚝 떨어지고, pacf가 천천히 떨어지면. SMA 사용\n",
    "- acf가 천천히 떨어지고, pacf가 뚝 떨어지면. AR(자기상관) 사용\n",
    "- 둘 다 떨어지면 ARIMA 사용!"
   ]
  },
  {
   "cell_type": "markdown",
   "metadata": {},
   "source": [
    "![](https://velog.velcdn.com/images%2Feuisuk-chung%2Fpost%2F40535822-ec23-402f-aa8b-2a4e98dc379d%2Fimage.png)"
   ]
  },
  {
   "cell_type": "markdown",
   "metadata": {},
   "source": [
    "---\n",
    "# 4. 정상성, 차분\n",
    "정상성(stationarity)\n",
    "> 정상성(stationarity) : 추세나 동향이 없는 상태. 시계열의 평균이 시간 축에 평행.\n",
    ">\n",
    "> 시계형 자료가 시계열 모형으로 적합시키기 위한 전체 조건.\n",
    "\n",
    "차분(differencing)\n",
    "> 비정상성 시계열은 정상 시계열로 변환해야하며 그 방법으로 차분(differencing)이 있다.\n",
    "> \n",
    "> 차분은 현시점 자료에서 전 시점 자료를 뺴는 것\n",
    "> \n",
    "> 1 ) 일반차분 : 바로 전 시점 자료를 뺴는 것\n",
    "> \n",
    "> 2 ) 계절차분 : 여러 시점 전의 자료를 뺴는 것"
   ]
  },
  {
   "cell_type": "markdown",
   "metadata": {},
   "source": [
    "---\n",
    "# 5. 시계열 모형 종류"
   ]
  },
  {
   "cell_type": "markdown",
   "metadata": {},
   "source": [
    "- (1) AR(p) - 자기 회귀 모형\n",
    "- (2) MA(q) - 이동평균 모형\n",
    "- (3) ARMA(p,q)\n",
    "- (4)ARIMA(p,d,q) - 자기회귀누적이동평균 모형 : 차수의 개수(d)는 거의 2를 넘지 않는다.\n",
    "  - 여기서 I는 차분을 한다는 의미\n",
    "- (5)SARIMA(Seasonal ARIMA) - 계절 자기회귀이동평균 모형\n",
    "  - 여기서 S는 계절성을 의미"
   ]
  },
  {
   "cell_type": "markdown",
   "metadata": {},
   "source": [
    "## 1 ) AR Models : 자기회기모형\n",
    "- 종속변수 : 자기자신 / y(t)\n",
    "- 독립변수 : 이전 시점의 시계열(lag) / y(t), y(t-1), y(t-2) ... y(t-p)\n",
    "- 파라미터 : 시점 p.\n",
    "\n",
    "## 2 ) MA Models : 이동평균모형\n",
    "- 종속변수 : 자기자신 / y(t)\n",
    "- 독립변수 : 해당시점과 이전 지점들의 errors / [εt,εt−1 ,...,εt−q]\n",
    "- 파라미터 : 시점 q.\n",
    "\n",
    "## 3 ) ARMA\n",
    "- 종속변수 : 자기자신 / y(t)\n",
    "- 독립변수 : 이전 시점의 시계열 + errors\n",
    "- 파라미터 : 시점 p, q\n",
    "\n",
    "## 4 ) ARIMA\n",
    "- ARMA 모형에 차분(differencing)을 d회 수행해준 모델\n",
    "- 비정상 모델을 차분하여 정상 데이터로 변형\n",
    "- 파라미터 : p, q, d\n"
   ]
  },
  {
   "cell_type": "code",
   "execution_count": null,
   "metadata": {},
   "outputs": [],
   "source": [
    "끝!"
   ]
  }
 ],
 "metadata": {
  "kernelspec": {
   "display_name": "Python 3.8.5 ('base')",
   "language": "python",
   "name": "python3"
  },
  "language_info": {
   "codemirror_mode": {
    "name": "ipython",
    "version": 3
   },
   "file_extension": ".py",
   "mimetype": "text/x-python",
   "name": "python",
   "nbconvert_exporter": "python",
   "pygments_lexer": "ipython3",
   "version": "3.8.5"
  },
  "orig_nbformat": 4,
  "vscode": {
   "interpreter": {
    "hash": "c97f18ea1c0f4969cf594a5df9f14ba2a838cf106fc5300ddecce29d9d6f0c71"
   }
  }
 },
 "nbformat": 4,
 "nbformat_minor": 2
}
