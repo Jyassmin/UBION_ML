{
 "cells": [
  {
   "cell_type": "markdown",
   "metadata": {},
   "source": [
    "# 백준코딩테스트"
   ]
  },
  {
   "cell_type": "markdown",
   "metadata": {},
   "source": [
    "## 1. 사칙연산"
   ]
  },
  {
   "cell_type": "code",
   "execution_count": 2,
   "metadata": {},
   "outputs": [
    {
     "name": "stdout",
     "output_type": "stream",
     "text": [
      "4\n",
      "-2\n",
      "3\n",
      "0\n",
      "1\n"
     ]
    }
   ],
   "source": [
    "# 두 자연수 A와 B가 주어진다.\n",
    "# 이때, A+B, A-B, A*B, A/B(몫), A%B(나머지)를 출력하는 프로그램을 작성하시오. \n",
    "\n",
    "a, b = map(int , input().split())\n",
    "\n",
    "print(a+b) # 덧셈\n",
    "print(a-b) # 뺄셈\n",
    "print(a*b) # 곱셈\n",
    "print(a//b) # 몫\n",
    "print(a%b) # 나머지"
   ]
  },
  {
   "cell_type": "markdown",
   "metadata": {},
   "source": [
    "## * map(함수, 대응할 요소)\n",
    "    - 여러요소에 하나의 함수를 한꺼번에 대응시켜준다."
   ]
  },
  {
   "cell_type": "code",
   "execution_count": 7,
   "metadata": {},
   "outputs": [],
   "source": [
    "a,b,c,d,e = map(int,input(\"입력하시오 : \").split())"
   ]
  },
  {
   "cell_type": "code",
   "execution_count": null,
   "metadata": {},
   "outputs": [],
   "source": []
  },
  {
   "cell_type": "code",
   "execution_count": 12,
   "metadata": {},
   "outputs": [
    {
     "name": "stdout",
     "output_type": "stream",
     "text": [
      "asd123\n",
      "asd 123\n"
     ]
    }
   ],
   "source": [
    "# 문자열 출력 차이(+ | ,)\n",
    "a = \"asd\"\n",
    "print(a + \"123\")\n",
    "print(a, \"123\")"
   ]
  },
  {
   "cell_type": "code",
   "execution_count": 15,
   "metadata": {},
   "outputs": [
    {
     "name": "stdout",
     "output_type": "stream",
     "text": [
      "\\    /\\\n",
      " )  ( ')\n",
      "(  /  )\n",
      " \\(__)|\n"
     ]
    }
   ],
   "source": [
    "# 특수문자 출력 : 특수문자(/) 앞에 역슬래쉬(/)\n",
    "print(\"\\\\    /\\\\\")\n",
    "print(\" )  ( ')\")\n",
    "print(\"(  /  )\")\n",
    "print(\" \\\\(__)|\")"
   ]
  },
  {
   "cell_type": "markdown",
   "metadata": {},
   "source": [
    "## * 문자열출력에 역슬래쉬가 필요한 특수문자\n",
    "    - \\, \", ' 이다."
   ]
  },
  {
   "cell_type": "code",
   "execution_count": 23,
   "metadata": {},
   "outputs": [
    {
     "name": "stdout",
     "output_type": "stream",
     "text": [
      "|\\_/|\n",
      "|q p|   /}\n",
      "( 0 )\"\"\"\\\n",
      "|\"^\"`    |\n",
      "||_/=\\\\__|\n"
     ]
    }
   ],
   "source": [
    "# 특수문자 출력 : 문자열출력에 역슬래쉬가 필요한 특수문자는 \\, \", ' 이다.\n",
    "## ^, |, ( 이런거는 괜찮다.\n",
    "print(\"|\\\\_/|\")\n",
    "print(\"|q p|   /}\")\n",
    "print(\"( 0 )\\\"\\\"\\\"\\\\\")\n",
    "print(\"|\\\"^\\\"`    |\")\n",
    "print(\"||_/=\\\\\\\\__|\")"
   ]
  },
  {
   "cell_type": "code",
   "execution_count": 35,
   "metadata": {},
   "outputs": [
    {
     "name": "stdout",
     "output_type": "stream",
     "text": [
      "         ,r'\"7\n",
      "r`-_   ,'  ,/\n",
      " \\. \". L_r'\n",
      "   `~\\/\n",
      "      |\n",
      "      |\n"
     ]
    }
   ],
   "source": [
    "# 새싹문제. 한 줄씩 print입력 필요없이 \"\"\" ~ \"\"\" 사용해서 출력!\n",
    "print(\"\"\"         ,r\\'\\\"7\n",
    "r`-_   ,\\'  ,/\n",
    " \\\\. \\\". L_r\\'\n",
    "   `~\\\\/\n",
    "      |\n",
    "      |\"\"\")"
   ]
  },
  {
   "cell_type": "code",
   "execution_count": 42,
   "metadata": {},
   "outputs": [
    {
     "name": "stdout",
     "output_type": "stream",
     "text": [
      "0 13\n"
     ]
    }
   ],
   "source": [
    "H, M = map(int, input().split())\n",
    "m = int(input())\n",
    "\n",
    "if (M+m)<60:\n",
    "    print(H, M+m)\n",
    "elif (M+m)>=60 and (H == 23):\n",
    "    print(0, M+m-60)\n",
    "elif (M+m)>=60 and (H != 23):\n",
    "    print(H+1, M+m-60)\n",
    "else:\n",
    "    pass"
   ]
  },
  {
   "cell_type": "code",
   "execution_count": null,
   "metadata": {},
   "outputs": [],
   "source": [
    "H, M = map(int, input().split())\n",
    "m = int(input())\n",
    "\n",
    "# M+m이 60보다 작을 때\n",
    "\n",
    "# M+m이 60보다 크거나 같을 때,\n",
    "## H + (M+m)//60 이 24보다 크거나 같을 때,\n",
    "### (M+m)//60 만큼 H에 더한 값이 시가되고, (M+m)%60가 분이된다.\n",
    "\n",
    "## H + (M+m)//60 이 24보다 작을 때\n",
    "### (M+m)//60 만큼 H에 더한 값이 시가되고, (M+m)%60가 분이된다.\n",
    "\n",
    "if \n"
   ]
  },
  {
   "cell_type": "code",
   "execution_count": null,
   "metadata": {},
   "outputs": [],
   "source": []
  },
  {
   "cell_type": "code",
   "execution_count": null,
   "metadata": {},
   "outputs": [],
   "source": []
  },
  {
   "cell_type": "code",
   "execution_count": null,
   "metadata": {},
   "outputs": [],
   "source": []
  },
  {
   "cell_type": "code",
   "execution_count": null,
   "metadata": {},
   "outputs": [],
   "source": []
  }
 ],
 "metadata": {
  "kernelspec": {
   "display_name": "Python 3.8.5 ('base')",
   "language": "python",
   "name": "python3"
  },
  "language_info": {
   "codemirror_mode": {
    "name": "ipython",
    "version": 3
   },
   "file_extension": ".py",
   "mimetype": "text/x-python",
   "name": "python",
   "nbconvert_exporter": "python",
   "pygments_lexer": "ipython3",
   "version": "3.8.5"
  },
  "orig_nbformat": 4,
  "vscode": {
   "interpreter": {
    "hash": "c97f18ea1c0f4969cf594a5df9f14ba2a838cf106fc5300ddecce29d9d6f0c71"
   }
  }
 },
 "nbformat": 4,
 "nbformat_minor": 2
}
