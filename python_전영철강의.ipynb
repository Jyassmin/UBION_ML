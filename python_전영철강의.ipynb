{
 "cells": [
  {
   "cell_type": "markdown",
   "metadata": {},
   "source": [
    "# 콜러블"
   ]
  },
  {
   "cell_type": "markdown",
   "metadata": {},
   "source": [
    "**파이썬은 객체 지향 프로그래밍**\n",
    "\n",
    "클래스 : 조건, 개념의 집합\n",
    "object는 값과 기능으로 이루어졌다.\n",
    "- 기능은 프로시저로 진행\n",
    "- 값은 라이트, 좌석 등등\n",
    "\n",
    "메세지는 object가 상호작용하는 것.\n",
    "메세지를 통해 오페레이션을 수행한다.\n"
   ]
  },
  {
   "cell_type": "markdown",
   "metadata": {},
   "source": [
    "함수 종류는 4개(사용자 정의함수, 내장함수, )\n",
    "함수는 call을 할 수 있다. 콜러블이다.\n",
    "\n",
    "함수 입력시 \"__main__\" 가짐.\n",
    "dir(함수) 입력시 call 뜨는 것을 알 수 있다.\n",
    "그러니 () \"콜\"을 사용할수 있다.\n",
    "\n",
    "__init__는 __new__를 포함한다.\n",
    "\n",
    "instance는 콜러블이 아니다. () 사용 못함. 정의해야 가능.\n",
    "\n",
    "\n"
   ]
  },
  {
   "cell_type": "markdown",
   "metadata": {},
   "source": [
    "# 일급객체\n",
    "First Class Object"
   ]
  },
  {
   "cell_type": "markdown",
   "metadata": {},
   "source": [
    "파이썬은 함수와 클래스가 일급객체.\n",
    "서로 호출, 인자사용 가능\n",
    "\n",
    "일급객체 조건\n",
    "일급객체 특징\n",
    "\n",
    "모든 함수에는 리턴값이 존재한다. return값이 생략됐을 땐 None을 리턴.\n",
    "\n",
    "test()() 는 함수 콜을 다시 콜한 것. -> 이중 함수 정의로 리턴 받을 수 있다."
   ]
  },
  {
   "cell_type": "markdown",
   "metadata": {},
   "source": [
    "# 키워드"
   ]
  },
  {
   "cell_type": "markdown",
   "metadata": {},
   "source": [
    "파라미터(형식매개변수) - 정의할때\n",
    "\n",
    "아규먼트(args, 실매개변수) - 호출할때\n",
    "\n",
    "포지셔널 - 위치적으로 대입\n",
    "\n",
    "키워드 : 순서를 바꿔도 괜춘\n",
    "\n",
    "포시셔널&키워드 : 포지셔널을 먼저 쓰고 키워드를 사용 add(1, c=2, b=3)\n",
    "\n",
    "디폴트 : def add(x=1, y=2)\n"
   ]
  },
  {
   "cell_type": "markdown",
   "metadata": {},
   "source": [
    "obj.method().method().method()\n",
    "-> 메소드체인이라 부름\n",
    "\n",
    "메소드의 반환이 객체로 나오면 메소드 체인 가능!\n",
    "\n",
    "\n",
    "리턴으로 어느 변수에 저장한 객체가 qr_img가 있다.\n",
    "qr_img.save()에서 .save는 메소드이다."
   ]
  },
  {
   "cell_type": "code",
   "execution_count": null,
   "metadata": {},
   "outputs": [],
   "source": [
    "jyc1355"
   ]
  },
  {
   "cell_type": "markdown",
   "metadata": {},
   "source": [
    "제네레이터 -> for보다 연산이 빠름.\n",
    "컴프리헨션"
   ]
  },
  {
   "cell_type": "code",
   "execution_count": 3,
   "metadata": {},
   "outputs": [
    {
     "data": {
      "text/plain": [
       "['__abs__',\n",
       " '__add__',\n",
       " '__and__',\n",
       " '__bool__',\n",
       " '__ceil__',\n",
       " '__class__',\n",
       " '__delattr__',\n",
       " '__dir__',\n",
       " '__divmod__',\n",
       " '__doc__',\n",
       " '__eq__',\n",
       " '__float__',\n",
       " '__floor__',\n",
       " '__floordiv__',\n",
       " '__format__',\n",
       " '__ge__',\n",
       " '__getattribute__',\n",
       " '__getnewargs__',\n",
       " '__gt__',\n",
       " '__hash__',\n",
       " '__index__',\n",
       " '__init__',\n",
       " '__init_subclass__',\n",
       " '__int__',\n",
       " '__invert__',\n",
       " '__le__',\n",
       " '__lshift__',\n",
       " '__lt__',\n",
       " '__mod__',\n",
       " '__mul__',\n",
       " '__ne__',\n",
       " '__neg__',\n",
       " '__new__',\n",
       " '__or__',\n",
       " '__pos__',\n",
       " '__pow__',\n",
       " '__radd__',\n",
       " '__rand__',\n",
       " '__rdivmod__',\n",
       " '__reduce__',\n",
       " '__reduce_ex__',\n",
       " '__repr__',\n",
       " '__rfloordiv__',\n",
       " '__rlshift__',\n",
       " '__rmod__',\n",
       " '__rmul__',\n",
       " '__ror__',\n",
       " '__round__',\n",
       " '__rpow__',\n",
       " '__rrshift__',\n",
       " '__rshift__',\n",
       " '__rsub__',\n",
       " '__rtruediv__',\n",
       " '__rxor__',\n",
       " '__setattr__',\n",
       " '__sizeof__',\n",
       " '__str__',\n",
       " '__sub__',\n",
       " '__subclasshook__',\n",
       " '__truediv__',\n",
       " '__trunc__',\n",
       " '__xor__',\n",
       " 'as_integer_ratio',\n",
       " 'bit_length',\n",
       " 'conjugate',\n",
       " 'denominator',\n",
       " 'from_bytes',\n",
       " 'imag',\n",
       " 'numerator',\n",
       " 'real',\n",
       " 'to_bytes']"
      ]
     },
     "execution_count": 3,
     "metadata": {},
     "output_type": "execute_result"
    }
   ],
   "source": [
    "dir(1)"
   ]
  },
  {
   "cell_type": "code",
   "execution_count": 5,
   "metadata": {},
   "outputs": [
    {
     "ename": "SyntaxError",
     "evalue": "invalid syntax (99724787.py, line 1)",
     "output_type": "error",
     "traceback": [
      "\u001b[0;36m  File \u001b[0;32m\"/var/folders/x3/lny9bbwx64b561c29r4y4z400000gn/T/ipykernel_47693/99724787.py\"\u001b[0;36m, line \u001b[0;32m1\u001b[0m\n\u001b[0;31m    1.__add__(1)\u001b[0m\n\u001b[0m      ^\u001b[0m\n\u001b[0;31mSyntaxError\u001b[0m\u001b[0;31m:\u001b[0m invalid syntax\n"
     ]
    }
   ],
   "source": [
    "1.__add__(1)"
   ]
  },
  {
   "cell_type": "code",
   "execution_count": 8,
   "metadata": {},
   "outputs": [],
   "source": [
    "class a():\n",
    "    pass\n",
    "    \n",
    "    "
   ]
  },
  {
   "cell_type": "code",
   "execution_count": 9,
   "metadata": {},
   "outputs": [
    {
     "ename": "TypeError",
     "evalue": "unsupported operand type(s) for +: 'a' and 'int'",
     "output_type": "error",
     "traceback": [
      "\u001b[0;31m---------------------------------------------------------------------------\u001b[0m",
      "\u001b[0;31mTypeError\u001b[0m                                 Traceback (most recent call last)",
      "\u001b[0;32m/var/folders/x3/lny9bbwx64b561c29r4y4z400000gn/T/ipykernel_47693/1183320945.py\u001b[0m in \u001b[0;36m<module>\u001b[0;34m\u001b[0m\n\u001b[0;32m----> 1\u001b[0;31m \u001b[0ma\u001b[0m\u001b[0;34m(\u001b[0m\u001b[0;34m)\u001b[0m \u001b[0;34m+\u001b[0m \u001b[0;36m100\u001b[0m\u001b[0;34m\u001b[0m\u001b[0;34m\u001b[0m\u001b[0m\n\u001b[0m",
      "\u001b[0;31mTypeError\u001b[0m: unsupported operand type(s) for +: 'a' and 'int'"
     ]
    }
   ],
   "source": [
    "a() + 100"
   ]
  },
  {
   "cell_type": "code",
   "execution_count": 11,
   "metadata": {},
   "outputs": [
    {
     "data": {
      "text/plain": [
       "\"int([x]) -> integer\\nint(x, base=10) -> integer\\n\\nConvert a number or string to an integer, or return 0 if no arguments\\nare given.  If x is a number, return x.__int__().  For floating point\\nnumbers, this truncates towards zero.\\n\\nIf x is not a number or if base is given, then x must be a string,\\nbytes, or bytearray instance representing an integer literal in the\\ngiven base.  The literal can be preceded by '+' or '-' and be surrounded\\nby whitespace.  The base defaults to 10.  Valid bases are 0 and 2-36.\\nBase 0 means to interpret the base from the string as an integer literal.\\n>>> int('0b100', base=0)\\n4\""
      ]
     },
     "execution_count": 11,
     "metadata": {},
     "output_type": "execute_result"
    }
   ],
   "source": [
    "int().__doc__"
   ]
  },
  {
   "cell_type": "code",
   "execution_count": 12,
   "metadata": {},
   "outputs": [
    {
     "name": "stdout",
     "output_type": "stream",
     "text": [
      "int([x]) -> integer\n",
      "int(x, base=10) -> integer\n",
      "\n",
      "Convert a number or string to an integer, or return 0 if no arguments\n",
      "are given.  If x is a number, return x.__int__().  For floating point\n",
      "numbers, this truncates towards zero.\n",
      "\n",
      "If x is not a number or if base is given, then x must be a string,\n",
      "bytes, or bytearray instance representing an integer literal in the\n",
      "given base.  The literal can be preceded by '+' or '-' and be surrounded\n",
      "by whitespace.  The base defaults to 10.  Valid bases are 0 and 2-36.\n",
      "Base 0 means to interpret the base from the string as an integer literal.\n",
      ">>> int('0b100', base=0)\n",
      "4\n"
     ]
    }
   ],
   "source": [
    "print(int().__doc__)"
   ]
  },
  {
   "cell_type": "code",
   "execution_count": 13,
   "metadata": {},
   "outputs": [
    {
     "data": {
      "text/plain": [
       "['__abs__',\n",
       " '__add__',\n",
       " '__and__',\n",
       " '__bool__',\n",
       " '__ceil__',\n",
       " '__class__',\n",
       " '__delattr__',\n",
       " '__dir__',\n",
       " '__divmod__',\n",
       " '__doc__',\n",
       " '__eq__',\n",
       " '__float__',\n",
       " '__floor__',\n",
       " '__floordiv__',\n",
       " '__format__',\n",
       " '__ge__',\n",
       " '__getattribute__',\n",
       " '__getnewargs__',\n",
       " '__gt__',\n",
       " '__hash__',\n",
       " '__index__',\n",
       " '__init__',\n",
       " '__init_subclass__',\n",
       " '__int__',\n",
       " '__invert__',\n",
       " '__le__',\n",
       " '__lshift__',\n",
       " '__lt__',\n",
       " '__mod__',\n",
       " '__mul__',\n",
       " '__ne__',\n",
       " '__neg__',\n",
       " '__new__',\n",
       " '__or__',\n",
       " '__pos__',\n",
       " '__pow__',\n",
       " '__radd__',\n",
       " '__rand__',\n",
       " '__rdivmod__',\n",
       " '__reduce__',\n",
       " '__reduce_ex__',\n",
       " '__repr__',\n",
       " '__rfloordiv__',\n",
       " '__rlshift__',\n",
       " '__rmod__',\n",
       " '__rmul__',\n",
       " '__ror__',\n",
       " '__round__',\n",
       " '__rpow__',\n",
       " '__rrshift__',\n",
       " '__rshift__',\n",
       " '__rsub__',\n",
       " '__rtruediv__',\n",
       " '__rxor__',\n",
       " '__setattr__',\n",
       " '__sizeof__',\n",
       " '__str__',\n",
       " '__sub__',\n",
       " '__subclasshook__',\n",
       " '__truediv__',\n",
       " '__trunc__',\n",
       " '__xor__',\n",
       " 'as_integer_ratio',\n",
       " 'bit_length',\n",
       " 'conjugate',\n",
       " 'denominator',\n",
       " 'from_bytes',\n",
       " 'imag',\n",
       " 'numerator',\n",
       " 'real',\n",
       " 'to_bytes']"
      ]
     },
     "execution_count": 13,
     "metadata": {},
     "output_type": "execute_result"
    }
   ],
   "source": [
    "dir(1)"
   ]
  },
  {
   "cell_type": "code",
   "execution_count": 14,
   "metadata": {},
   "outputs": [],
   "source": [
    "class test(int):\n",
    "    pass"
   ]
  },
  {
   "cell_type": "code",
   "execution_count": 15,
   "metadata": {},
   "outputs": [
    {
     "data": {
      "text/plain": [
       "0"
      ]
     },
     "execution_count": 15,
     "metadata": {},
     "output_type": "execute_result"
    }
   ],
   "source": [
    "test()"
   ]
  },
  {
   "cell_type": "code",
   "execution_count": null,
   "metadata": {},
   "outputs": [],
   "source": [
    "int()"
   ]
  },
  {
   "cell_type": "code",
   "execution_count": null,
   "metadata": {},
   "outputs": [],
   "source": []
  },
  {
   "cell_type": "markdown",
   "metadata": {},
   "source": [
    "---\n",
    "# 221025"
   ]
  },
  {
   "cell_type": "markdown",
   "metadata": {},
   "source": [
    "[파이썬을 쓰는 이유는?]  \n",
    "\n",
    "노코딩, 블럭코딩 처럼 도메인을 가진 사람이 코딩을 하지 않고 쉽게 코딩하려하는 니즈 생김.  \n",
    "여러 코드를 단일화하자는 얘기가 나온다. -> 파이썬!!  \n",
    "\n",
    "안드로이드 : 자바 코틀린, 애플 : 스위프트, game : C#  \n",
    "파이썬 문법을 기초로 자바, 코틀린, 스위프트로 변환이 가능하다! 필수적인 언어!  \n",
    "\n",
    "\n",
    "[파이썬의 개념]  \n",
    "블럭같다. -> 객체지향언어  \n",
    "함수, 변수가 **어떤 객체**를 가지고 있는지를 알아봐야한다.\n"
   ]
  },
  {
   "cell_type": "markdown",
   "metadata": {},
   "source": [
    "# 코드뜯기"
   ]
  },
  {
   "cell_type": "markdown",
   "metadata": {},
   "source": [
    "\n",
    "콜러블이면 : 함수 or 클래스 or 제네레이터  \n",
    "리턴은 : 값 or 개체이다.  \n",
    "\n",
    "colab, vdcode특성 : 마지막 코드의 return값이 변수에 저장되지 않는다면 출력한다는 특성을 가짐.  \n",
    "\n",
    "어느 method의 return으로 객체를 반환하면, 이를 메소드로 연속 이어줄 때. -> 메소드 체인. (무한히 객체로 가능하다)  \n",
    "> df.describe().T  \n",
    "\n",
    "객체는 어떤것을 하는 덩어리  \n",
    "객체보고 뭘하라고 시키는 것, 요청하는 것이 메세지이며 콜()이 있다.  \n",
    "이렇게 객체와 상호작용하는 것이 객체지향.  \n",
    "\n",
    "[API란??]\n",
    "- 사람과 컴퓨터의 상호작용을 위해 가운데이 있는 것이 인터페이스  \n",
    "- 프론트에서 백엔드에게 요청하고 리턴받을 때 그 중간역할을 하는 func()을 API라고 부른다."
   ]
  },
  {
   "cell_type": "markdown",
   "metadata": {},
   "source": [
    "[상속클래스란?] - 클래스를 만들기위한, 상속을하기 위한 틀로 만들어진다.(추상method를 가진다.)  \n",
    "- 일반 클래스는 (콘크리트)클래스라고 불린다. \n",
    "- ex) 동물이라는 추상클래스로 -> 사자, 사람, 물고기라는 (콘크리트) 클래스. -> 이 클래스가 심바, 재민, 구피라는 객체를 만든다.\n",
    "\n",
    "> from imblearn.over_sampling import SMOTE  \n",
    "> rus = SMOTE(sampling_strategy='auto')  \n",
    "> X_data_rus, y_data_rus = rus.fit_resample(X, y)  \n",
    "\n",
    "해석: 여기서 SMOTE는 추상클래스이고,  \n",
    " rus는 객체.  \n",
    " \".\"은 탐색  \n",
    "fit_resample이라는 메소드에서 콜을 하여 메세지를 보내 객체(array)을 리턴받는다.  \n",
    "\n",
    "**객체는 값이랑 기능을 가지는데 기능은 ()콜로 호출한다.  **\n",
    "만약 requests.get(url).content 라는 코드가 있으면 애는 안보고도 그냥 값이다. 왜냐하면 **값은 콜이 없기 때문에**.  "
   ]
  },
  {
   "cell_type": "markdown",
   "metadata": {},
   "source": [
    "[리턴값은 무조건 하나다!]\n",
    "> X_train, X_test, y_train, y_test = train_test_split(X_data_rus, y_data_rus, test_size=0.3, random_state=42,stratify=y_data_rus)\n",
    "\n",
    "ㅇ 여기서 변수저장 갯수가 4개인이유.  \n",
    "리턴은 하나다. 길이가 4인 튜플or리스트를 하나 리턴 받아서 언패킹한다.  \n",
    "\n",
    "ㅇ 여기서 필요없는 변수를 메모리에 저장하기 싫으면, X_train, _, _, _ 라고 한다.  \n",
    "파이썬에서는 언더바에 대한 규제가 없다.(던더 : 더블 언더바)  \n",
    "\"_\"라는 변수에다가 필요없는 데이터를 처리하여 메모리를 아끼고 변수이름을 지어줄 필요를 줄여준다!  \n"
   ]
  },
  {
   "cell_type": "markdown",
   "metadata": {},
   "source": [
    "# 제네레이터 공부 꼭!  \n",
    "[제네레이터] \n",
    "\n",
    "> from statsmodels.stats.outliers_influence import variance_inflation_factor  \n",
    "> vif = pd.DataFrame(  \n",
    ">    [variance_inflation_factor(df_copy.values, i) for i in range(df_copy.shape[1])],  # 얘는 뭐냐?  \n",
    ">     index=df_copy.columns, columns=['VIF'])  \n",
    "> vif.sort_values(by='VIF', ascending=False)  \n",
    "\n",
    "튜플에는 comprehension이 없다.  \n",
    "list []      -> comprehention  \n",
    "dict, set {} -> comprehention  \n",
    "generator () -> expression  \n",
    "\n",
    "\n",
    "아래코드를  \n",
    "temp=[]  \n",
    "for x in range(5):  \n",
    "    temp.append(x)  \n",
    "\n",
    "list comprehention으로 담으면  \n",
    "[x for x in range] 이렇게 제네레이터를 만들 수 있고, 연산이 훨씬 빠르다.  \n"
   ]
  },
  {
   "cell_type": "markdown",
   "metadata": {},
   "source": [
    "판다스랑 넘파이 책. 데이터 다룰려면 무조건 사라!  \n",
    "![](\"https://user-images.githubusercontent.com/88031549/197755207-ffea9808-a736-4754-b8e9-9651d0b498bf.png\")\n",
    "\n"
   ]
  },
  {
   "cell_type": "markdown",
   "metadata": {},
   "source": [
    "## **중요 shallow copy, deep copy\n",
    "\n",
    "파이썬은 참조언어이다. 변수를 저장하면 그 변수는 값의 주소를 가르킨다!(참조한다!)  \n",
    "얕은 복사는 객체를 새로운 객체로 복사하지만 원본 객체의 주소값을 복사하는 것이고, 깊은 복사는 전체 복사로 참조값의 복사가 아닌 참조된 객체 자체를 복사하는 것을 말한다.\n",
    "\n",
    "\n",
    "> df_copy = df  \n",
    "\n",
    "copy에는 shallow copy와 deep copy가 있다.  \n",
    "a=10\n",
    "b=a\n",
    "이거는 deep copy이다.\n"
   ]
  },
  {
   "cell_type": "code",
   "execution_count": 2,
   "metadata": {},
   "outputs": [
    {
     "name": "stdout",
     "output_type": "stream",
     "text": [
      "[1, 2, 3, 6]\n",
      "[1, 2, 3, 6]\n"
     ]
    }
   ],
   "source": [
    "a = [1,2,3]\n",
    "b = a\n",
    "b.append(6)\n",
    "print(a)\n",
    "print(b)\n",
    "\n",
    "#이렇게 shallow copy는 원본데이터(a)에 대한 손상을 일으킨다."
   ]
  },
  {
   "cell_type": "markdown",
   "metadata": {},
   "source": [
    "[용어]  \n",
    "\n",
    "서버 get 방식 : URL에 \"?id=~\"처럼 달아서 들어간다. 그러나 이것은 다 보이기에 보안에 취약함.  \n",
    "\n",
    "서버 post 방식 : session에다가 넣어서 주소에 들어감. 구조가 보이지 않아 보안에 좋음. ex) 로그인 페이지.  \n",
    "\n",
    "\n",
    "\n",
    "\n"
   ]
  },
  {
   "cell_type": "markdown",
   "metadata": {},
   "source": [
    "? 왜 사이킷런 \"툴킷\" 이라고하냐.  \n",
    "\n",
    "동기는 위에서부터 A, B, C 차례대로 실행하는것.\n",
    "비동기는 병렬적으로 A, B, C를 동시 실행한다.\n"
   ]
  },
  {
   "cell_type": "code",
   "execution_count": null,
   "metadata": {},
   "outputs": [],
   "source": []
  },
  {
   "cell_type": "code",
   "execution_count": null,
   "metadata": {},
   "outputs": [],
   "source": []
  },
  {
   "cell_type": "code",
   "execution_count": null,
   "metadata": {},
   "outputs": [],
   "source": []
  },
  {
   "cell_type": "code",
   "execution_count": null,
   "metadata": {},
   "outputs": [],
   "source": []
  },
  {
   "cell_type": "code",
   "execution_count": null,
   "metadata": {},
   "outputs": [],
   "source": []
  },
  {
   "cell_type": "code",
   "execution_count": null,
   "metadata": {},
   "outputs": [],
   "source": []
  },
  {
   "cell_type": "code",
   "execution_count": null,
   "metadata": {},
   "outputs": [],
   "source": []
  }
 ],
 "metadata": {
  "kernelspec": {
   "display_name": "Python 3.8.5 ('base')",
   "language": "python",
   "name": "python3"
  },
  "language_info": {
   "codemirror_mode": {
    "name": "ipython",
    "version": 3
   },
   "file_extension": ".py",
   "mimetype": "text/x-python",
   "name": "python",
   "nbconvert_exporter": "python",
   "pygments_lexer": "ipython3",
   "version": "3.8.5"
  },
  "orig_nbformat": 4,
  "vscode": {
   "interpreter": {
    "hash": "c97f18ea1c0f4969cf594a5df9f14ba2a838cf106fc5300ddecce29d9d6f0c71"
   }
  }
 },
 "nbformat": 4,
 "nbformat_minor": 2
}
