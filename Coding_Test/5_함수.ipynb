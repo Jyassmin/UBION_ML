{
 "cells": [
  {
   "cell_type": "markdown",
   "metadata": {},
   "source": [
    "# 5_함수"
   ]
  },
  {
   "cell_type": "markdown",
   "metadata": {},
   "source": [
    "## 1. 15596"
   ]
  },
  {
   "cell_type": "code",
   "execution_count": null,
   "metadata": {},
   "outputs": [],
   "source": [
    "## a는 리스트\n",
    "\n",
    "# def solve(a):\n",
    "#     ans = 0\n",
    "#     for i in a:\n",
    "#         ans += i\n",
    "        \n",
    "#     return ans\n",
    "\n",
    "## 더욱 간단히! 두 줄로 끝!!\n",
    "def solve(a):\n",
    "    return sum(a)"
   ]
  },
  {
   "cell_type": "markdown",
   "metadata": {},
   "source": [
    "## 2. 4673\n",
    "> # 다시풀기\n",
    "> # 오래걸림.."
   ]
  },
  {
   "cell_type": "markdown",
   "metadata": {},
   "source": [
    "### [set문법]\n",
    "- set는 index, 순서가 없어 index호출 불가능\n",
    "- 합집합 |, 차집합 -, 교집합 &\n",
    "- 원소추가: .add(원소), .update(set)\n",
    "- 원소삭제: .remove"
   ]
  },
  {
   "cell_type": "code",
   "execution_count": null,
   "metadata": {},
   "outputs": [],
   "source": [
    "# const(n)함수는 n에 대한 수열을 만들어 set로 반환(원소: 0~10000)\n",
    "def const(n):\n",
    "    st = set()\n",
    "    next_num = n #33\n",
    "    \n",
    "    while (next_num < 10000) & (next_num > 0):\n",
    "        for i in str(next_num):\n",
    "            next_num += int(i)\n",
    "        st.add(next_num)\n",
    "    return st\n",
    "\n",
    "\n",
    "non_self_nums = set()\n",
    "for j in range(10000):\n",
    "    if type(const(j))==set:\n",
    "        non_self_nums.update(const(j))\n",
    "\n",
    "self_nums = set()\n",
    "for k in range(9999):\n",
    "    self_nums.add(k+1)\n",
    "\n",
    "self_nums = list(self_nums - non_self_nums)\n",
    "self_nums.sort()\n",
    "\n",
    "for i in self_nums:\n",
    "    print(i)\n"
   ]
  },
  {
   "cell_type": "markdown",
   "metadata": {},
   "source": [
    "> sorted된 list 생성 -> sorted()\n",
    "\n",
    "> set(range(시작, 종료))처럼 range를 사용하면,<br>\n",
    "> for문+add를 사용해 set를 정의할 필요x"
   ]
  },
  {
   "cell_type": "code",
   "execution_count": null,
   "metadata": {},
   "outputs": [],
   "source": [
    "# case2 : 함수x\n",
    "natural_num = set(range(1, 10001))\n",
    "generated_num = set()\n",
    "\n",
    "for i in range(1, 10001):\n",
    "    for j in str(i):\n",
    "        i += int(j)\n",
    "    generated_num.add(i)\n",
    "\n",
    "self_num = sorted(natural_num - generated_num)\n",
    "for i in self_num:\n",
    "    print(i)"
   ]
  },
  {
   "cell_type": "markdown",
   "metadata": {},
   "source": [
    "## 3. 1065"
   ]
  },
  {
   "cell_type": "code",
   "execution_count": 26,
   "metadata": {},
   "outputs": [
    {
     "name": "stdout",
     "output_type": "stream",
     "text": [
      "99\n"
     ]
    }
   ],
   "source": [
    "# 한수 : 정수 N의 각 자리 수가 등차수열(연속된 숫자들의 차의가 같다)인 수\n",
    "## 참고로 1~99는 전부 다 한수이다. 123, 135 ,,,\n",
    "\n",
    "N = int(input())\n",
    "cnt = 0\n",
    "\n",
    "for i in range(1, N+1):\n",
    "    # 2자리수 처리\n",
    "    if i < 100:\n",
    "        cnt += 1\n",
    "        continue\n",
    "    \n",
    "    # 4자리수 처리\n",
    "    if i == 1000:\n",
    "        continue\n",
    "    \n",
    "    # 3자리수 처리\n",
    "    else:\n",
    "        for j in range(len(str(i))-2):\n",
    "            if (int(str(i)[j]) - int(str(i)[j+1])) == (int(str(i)[j+1]) - int(str(i)[j+2])):\n",
    "                cnt += 1\n",
    "\n",
    "print(cnt)\n"
   ]
  },
  {
   "cell_type": "markdown",
   "metadata": {},
   "source": [
    "> list(map(int,str(N))) : 정수 N의 각 자리 숫자를 리스트로 묶어줌"
   ]
  },
  {
   "cell_type": "code",
   "execution_count": 25,
   "metadata": {},
   "outputs": [
    {
     "name": "stdout",
     "output_type": "stream",
     "text": [
      "99\n"
     ]
    }
   ],
   "source": [
    "# case2 : 함수 사용\n",
    "\n",
    "def hansu(num) :\n",
    "    hansu_cnt = 0\n",
    "    for i in range(1, num+1):\n",
    "        num_list = list(map(int,str(i))) # list만들어서 하면 숫자가 1000이라도 가능. 앞 3자리 1,0,0에 대해서만 연산\n",
    "        \n",
    "        if i < 100:\n",
    "            hansu_cnt += 1  # 100보다 작으면 모두 한수\n",
    "        elif num_list[0]-num_list[1] == num_list[1]-num_list[2]:\n",
    "            hansu_cnt += 1  # x의 각 자리가 등차수열이면 한수\n",
    "            \n",
    "    return hansu_cnt\n",
    "\n",
    "num = int(input())\n",
    "print(hansu(num))"
   ]
  },
  {
   "cell_type": "code",
   "execution_count": null,
   "metadata": {},
   "outputs": [],
   "source": []
  },
  {
   "cell_type": "code",
   "execution_count": null,
   "metadata": {},
   "outputs": [],
   "source": []
  },
  {
   "cell_type": "code",
   "execution_count": 1,
   "metadata": {},
   "outputs": [
    {
     "data": {
      "text/plain": [
       "False"
      ]
     },
     "execution_count": 1,
     "metadata": {},
     "output_type": "execute_result"
    }
   ],
   "source": [
    "0.1 + 1.1 == 1.2"
   ]
  },
  {
   "cell_type": "markdown",
   "metadata": {},
   "source": [
    "매개변수에는 실, 형식 매개변수가 있다.\n",
    "둘 다 통틀어서 parameter라고 부른다.\n",
    "\n",
    "args : 실매개변수\n",
    "\n",
    "\n",
    "~ : home directory"
   ]
  },
  {
   "cell_type": "code",
   "execution_count": null,
   "metadata": {},
   "outputs": [],
   "source": []
  }
 ],
 "metadata": {
  "kernelspec": {
   "display_name": "Python 3.8.5 ('base')",
   "language": "python",
   "name": "python3"
  },
  "language_info": {
   "codemirror_mode": {
    "name": "ipython",
    "version": 3
   },
   "file_extension": ".py",
   "mimetype": "text/x-python",
   "name": "python",
   "nbconvert_exporter": "python",
   "pygments_lexer": "ipython3",
   "version": "3.8.5"
  },
  "orig_nbformat": 4,
  "vscode": {
   "interpreter": {
    "hash": "c97f18ea1c0f4969cf594a5df9f14ba2a838cf106fc5300ddecce29d9d6f0c71"
   }
  }
 },
 "nbformat": 4,
 "nbformat_minor": 2
}
