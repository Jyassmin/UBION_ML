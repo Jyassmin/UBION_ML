{
 "cells": [
  {
   "cell_type": "markdown",
   "metadata": {},
   "source": [
    "# Programmers 연습문제\n",
    "---\n",
    "## 1. 과일장수"
   ]
  },
  {
   "cell_type": "code",
   "execution_count": 67,
   "metadata": {},
   "outputs": [],
   "source": [
    "# [목적] 최대이익을 계산하라\n",
    "##(최저 사과 점수) x (한 상자에 담긴 사과 개수) x (상자의 개수)\n",
    "\n",
    "# k : 최상품의 점수\n",
    "# p : 한 상자에 담긴 사과의 점수 중 가장 낮은 점수\n",
    "# m : 상자포장단위\n",
    "# 상자가격 : p*m\n",
    "\n",
    "def solution(k, m, score):\n",
    "    score.sort(reverse=True)\n",
    "\n",
    "    n_box = len(score)//m\n",
    "    answer = 0\n",
    "\n",
    "    # 박스별 가격 계산\n",
    "    for i in range(n_box):\n",
    "        p = min(score[m*i : m*(i+1)])\n",
    "        answer += p*m\n",
    "\n",
    "    return answer"
   ]
  },
  {
   "cell_type": "code",
   "execution_count": 68,
   "metadata": {},
   "outputs": [
    {
     "data": {
      "text/plain": [
       "33"
      ]
     },
     "execution_count": 68,
     "metadata": {},
     "output_type": "execute_result"
    }
   ],
   "source": [
    "k=3\n",
    "m=3\n",
    "score=[4, 1, 2, 2, 4, 4, 4, 4, 1, 2, 4, 2]\n",
    "solution(k,m,score) # 33"
   ]
  },
  {
   "cell_type": "markdown",
   "metadata": {},
   "source": [
    "---\n",
    "## 2. 푸드 파이트 대회"
   ]
  },
  {
   "cell_type": "code",
   "execution_count": 88,
   "metadata": {},
   "outputs": [],
   "source": [
    "# [목적] 두명의 푸드파이터가 먹을 칼로리 낮은 음식들의 배열\n",
    "# input : [\"1번음식의 갯수\", \"2번음식의 갯수\",,, \"n번 음식의 갯수]\n",
    "\n",
    "\n",
    "def solution(food):\n",
    "    length = len(food)\n",
    "    count=0\n",
    "    food_list = list()\n",
    "    answer = \"0\"\n",
    "    \n",
    "    # 먹을 음식 갯수 count\n",
    "    for i in range(length):\n",
    "        count = food[i]//2\n",
    "        for _ in range(count):\n",
    "            food_list.append(i)\n",
    "    \n",
    "    \n",
    "    # 배열 만들기\n",
    "    food_list.reverse()\n",
    "    for i in food_list:\n",
    "        answer =  str(i) + answer + str(i)\n",
    "    \n",
    "    return answer"
   ]
  },
  {
   "cell_type": "code",
   "execution_count": 89,
   "metadata": {},
   "outputs": [
    {
     "data": {
      "text/plain": [
       "'1223330333221'"
      ]
     },
     "execution_count": 89,
     "metadata": {},
     "output_type": "execute_result"
    }
   ],
   "source": [
    "food = [1, 3, 4, 6]\n",
    "solution(food) # \"1223330333221\""
   ]
  },
  {
   "cell_type": "code",
   "execution_count": null,
   "metadata": {},
   "outputs": [],
   "source": []
  },
  {
   "cell_type": "code",
   "execution_count": null,
   "metadata": {},
   "outputs": [],
   "source": []
  },
  {
   "cell_type": "code",
   "execution_count": null,
   "metadata": {},
   "outputs": [],
   "source": []
  },
  {
   "cell_type": "code",
   "execution_count": null,
   "metadata": {},
   "outputs": [],
   "source": []
  },
  {
   "cell_type": "code",
   "execution_count": null,
   "metadata": {},
   "outputs": [],
   "source": []
  },
  {
   "cell_type": "code",
   "execution_count": null,
   "metadata": {},
   "outputs": [],
   "source": []
  }
 ],
 "metadata": {
  "kernelspec": {
   "display_name": "Python 3.8.5 ('base')",
   "language": "python",
   "name": "python3"
  },
  "language_info": {
   "codemirror_mode": {
    "name": "ipython",
    "version": 3
   },
   "file_extension": ".py",
   "mimetype": "text/x-python",
   "name": "python",
   "nbconvert_exporter": "python",
   "pygments_lexer": "ipython3",
   "version": "3.8.5"
  },
  "orig_nbformat": 4,
  "vscode": {
   "interpreter": {
    "hash": "c97f18ea1c0f4969cf594a5df9f14ba2a838cf106fc5300ddecce29d9d6f0c71"
   }
  }
 },
 "nbformat": 4,
 "nbformat_minor": 2
}
