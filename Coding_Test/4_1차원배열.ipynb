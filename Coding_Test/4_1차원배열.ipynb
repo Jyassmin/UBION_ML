{
 "cells": [
  {
   "cell_type": "markdown",
   "metadata": {},
   "source": [
    "# 4_1차원배열!"
   ]
  },
  {
   "cell_type": "markdown",
   "metadata": {},
   "source": [
    "## 1. 10818번"
   ]
  },
  {
   "cell_type": "code",
   "execution_count": 2,
   "metadata": {},
   "outputs": [
    {
     "name": "stdout",
     "output_type": "stream",
     "text": [
      "7 35\n"
     ]
    }
   ],
   "source": [
    "n = int(input())\n",
    "ls = list(map(int, input().split()))\n",
    "\n",
    "print(min(ls), max(ls))"
   ]
  },
  {
   "cell_type": "markdown",
   "metadata": {},
   "source": [
    "## 2. 2562번"
   ]
  },
  {
   "cell_type": "markdown",
   "metadata": {},
   "source": [
    "> ### list의 원소위치 -> ls.index(원소)"
   ]
  },
  {
   "cell_type": "code",
   "execution_count": null,
   "metadata": {},
   "outputs": [],
   "source": [
    "ls = []\n",
    "\n",
    "for i in range(9):\n",
    "    a = int(input())\n",
    "    ls.append(a)\n",
    "\n",
    "print(max(ls))\n",
    "print(ls.index(max(ls)) + 1)"
   ]
  },
  {
   "cell_type": "markdown",
   "metadata": {},
   "source": [
    "## 3. 3052번"
   ]
  },
  {
   "cell_type": "code",
   "execution_count": 23,
   "metadata": {},
   "outputs": [
    {
     "name": "stdout",
     "output_type": "stream",
     "text": [
      "10\n"
     ]
    }
   ],
   "source": [
    "# case1 : list사용.(if, not in)\n",
    "ls=[]\n",
    "\n",
    "for i in range(10):\n",
    "    a = int(input())%42\n",
    "    if a not in ls:\n",
    "        ls.append(a)\n",
    "\n",
    "print(len(ls))"
   ]
  },
  {
   "cell_type": "code",
   "execution_count": 26,
   "metadata": {},
   "outputs": [
    {
     "name": "stdout",
     "output_type": "stream",
     "text": [
      "10\n"
     ]
    }
   ],
   "source": [
    "# case2 : set는 중복된 원소를 가지지 않음\n",
    "## st={}는 빈set가 아니라 dict가 된다.\n",
    "st = set()\n",
    "\n",
    "for i in range(10):\n",
    "    a = int(input())%42\n",
    "    st.add(a)\n",
    "\n",
    "print(len(st))"
   ]
  },
  {
   "cell_type": "markdown",
   "metadata": {},
   "source": [
    "## 4. 1546번"
   ]
  },
  {
   "cell_type": "code",
   "execution_count": 30,
   "metadata": {},
   "outputs": [
    {
     "name": "stdout",
     "output_type": "stream",
     "text": [
      "75.0\n"
     ]
    }
   ],
   "source": [
    "n = int(input())\n",
    "ls = list(map(int, input().split()))\n",
    "sum=0\n",
    "\n",
    "for i in range(n):\n",
    "    sum += ls[i]\n",
    "\n",
    "result = (sum/n) / max(ls) * 100\n",
    "print(result)"
   ]
  },
  {
   "cell_type": "markdown",
   "metadata": {},
   "source": [
    "## 5. 8958"
   ]
  },
  {
   "cell_type": "markdown",
   "metadata": {},
   "source": [
    "> ## *중요: list 삽입\n",
    "> #### ls[0] == \"O\"처럼 인덱스 삽입 안됌. -> insert사용!\n",
    "> #### 1. append : list 마지막에 데이터 추가\n",
    "> #### 2. extend : 다른 list와 이어붙힘\n",
    "> #### 3. insert : index에 데이터 추가"
   ]
  },
  {
   "cell_type": "code",
   "execution_count": null,
   "metadata": {},
   "outputs": [],
   "source": [
    "n = int(input())\n",
    "\n",
    "for i in range(n):\n",
    "    ls = list(input())\n",
    "    score = list()\n",
    "\n",
    "    if ls[0] == \"O\":\n",
    "        score.insert(0, 1)\n",
    "    else:\n",
    "        score.insert(0, 0)\n",
    "        \n",
    "    for j in range(len(ls)-1):\n",
    "        if ls[j+1] == \"O\":\n",
    "            score.append(1)\n",
    "        else:\n",
    "            score.append(0)\n",
    "\n",
    "        if ls[j+1] == ls[j]:\n",
    "            score[j+1] += score[j]\n",
    "\n",
    "    sum=0\n",
    "    for k in score:\n",
    "        sum += k\n",
    "    print(sum)"
   ]
  },
  {
   "cell_type": "markdown",
   "metadata": {},
   "source": [
    "## 6. 4344"
   ]
  },
  {
   "cell_type": "markdown",
   "metadata": {},
   "source": [
    "> ## 소수점 출력! format함수\n",
    "> ### -> \"{인덱스:.소수점자릿수f}\".format(출력숫자)\n",
    "> ## 리스트 부분합산\n",
    "> ### -> sum(ls[1:]) : 2번째원소부터 합산\n",
    "> ### -> 이를 응용해 for i in ls[1:]로 원소 다룰 수 있음 len필요없이"
   ]
  },
  {
   "cell_type": "code",
   "execution_count": 74,
   "metadata": {},
   "outputs": [
    {
     "name": "stdout",
     "output_type": "stream",
     "text": [
      "1.1100\n",
      "1.1100 2.2200\n"
     ]
    }
   ],
   "source": [
    "a = 1.11\n",
    "b = 2.22\n",
    "\n",
    "print(\"%.4f\" % a)\n",
    "print(\"{0:.4f} {1:.4f}\".format(a, b))"
   ]
  },
  {
   "cell_type": "code",
   "execution_count": 91,
   "metadata": {},
   "outputs": [
    {
     "name": "stdout",
     "output_type": "stream",
     "text": [
      "40.000%\n",
      "57.143%\n",
      "33.333%\n",
      "66.667%\n",
      "55.556%\n"
     ]
    }
   ],
   "source": [
    "n = int(input())\n",
    "\n",
    "for i in range(n):\n",
    "    ls = list(map(int, input().split()))\n",
    "    \n",
    "    mean = 0\n",
    "    for j in range(ls[0]):\n",
    "        mean += ls[j+1]\n",
    "    mean = round(mean/ls[0], 3)\n",
    "    # 또는 avg = sum(ls[1:]) / ls[0]\n",
    "    \n",
    "    cnt = 0\n",
    "    for k in range(ls[0]):\n",
    "        if ls[k+1] > mean:\n",
    "            cnt += 1\n",
    "    \n",
    "    mean_over = cnt/ls[0]*100\n",
    "    print(\"{0:.3f}%\".format(mean_over))"
   ]
  },
  {
   "cell_type": "markdown",
   "metadata": {},
   "source": [
    "-끝-"
   ]
  }
 ],
 "metadata": {
  "kernelspec": {
   "display_name": "Python 3.8.5 ('base')",
   "language": "python",
   "name": "python3"
  },
  "language_info": {
   "codemirror_mode": {
    "name": "ipython",
    "version": 3
   },
   "file_extension": ".py",
   "mimetype": "text/x-python",
   "name": "python",
   "nbconvert_exporter": "python",
   "pygments_lexer": "ipython3",
   "version": "3.8.5"
  },
  "orig_nbformat": 4,
  "vscode": {
   "interpreter": {
    "hash": "c97f18ea1c0f4969cf594a5df9f14ba2a838cf106fc5300ddecce29d9d6f0c71"
   }
  }
 },
 "nbformat": 4,
 "nbformat_minor": 2
}
