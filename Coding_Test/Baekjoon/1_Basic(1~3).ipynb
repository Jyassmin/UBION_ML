{
 "cells": [
  {
   "cell_type": "markdown",
   "metadata": {},
   "source": [
    "# 백준코딩테스트"
   ]
  },
  {
   "cell_type": "markdown",
   "metadata": {},
   "source": [
    "## 1. 사칙연산"
   ]
  },
  {
   "cell_type": "code",
   "execution_count": 2,
   "metadata": {},
   "outputs": [
    {
     "name": "stdout",
     "output_type": "stream",
     "text": [
      "4\n",
      "-2\n",
      "3\n",
      "0\n",
      "1\n"
     ]
    }
   ],
   "source": [
    "# 두 자연수 A와 B가 주어진다.\n",
    "# 이때, A+B, A-B, A*B, A/B(몫), A%B(나머지)를 출력하는 프로그램을 작성하시오. \n",
    "\n",
    "a, b = map(int , input().split())\n",
    "\n",
    "print(a+b) # 덧셈\n",
    "print(a-b) # 뺄셈\n",
    "print(a*b) # 곱셈\n",
    "print(a//b) # 몫\n",
    "print(a%b) # 나머지"
   ]
  },
  {
   "cell_type": "markdown",
   "metadata": {},
   "source": [
    "## * map(함수, 대응할 요소)\n",
    "    - 여러요소에 하나의 함수를 한꺼번에 대응시켜준다."
   ]
  },
  {
   "cell_type": "code",
   "execution_count": 7,
   "metadata": {},
   "outputs": [],
   "source": [
    "a,b,c,d,e = map(int,input(\"입력하시오 : \").split())"
   ]
  },
  {
   "cell_type": "code",
   "execution_count": null,
   "metadata": {},
   "outputs": [],
   "source": []
  },
  {
   "cell_type": "code",
   "execution_count": 12,
   "metadata": {},
   "outputs": [
    {
     "name": "stdout",
     "output_type": "stream",
     "text": [
      "asd123\n",
      "asd 123\n"
     ]
    }
   ],
   "source": [
    "# 문자열 출력 차이(+ | ,)\n",
    "a = \"asd\"\n",
    "print(a + \"123\")\n",
    "print(a, \"123\")"
   ]
  },
  {
   "cell_type": "code",
   "execution_count": 15,
   "metadata": {},
   "outputs": [
    {
     "name": "stdout",
     "output_type": "stream",
     "text": [
      "\\    /\\\n",
      " )  ( ')\n",
      "(  /  )\n",
      " \\(__)|\n"
     ]
    }
   ],
   "source": [
    "# 특수문자 출력 : 특수문자(/) 앞에 역슬래쉬(/)\n",
    "print(\"\\\\    /\\\\\")\n",
    "print(\" )  ( ')\")\n",
    "print(\"(  /  )\")\n",
    "print(\" \\\\(__)|\")"
   ]
  },
  {
   "cell_type": "markdown",
   "metadata": {},
   "source": [
    "## * 문자열출력에 역슬래쉬가 필요한 특수문자\n",
    "    - \\, \", ' 이다."
   ]
  },
  {
   "cell_type": "code",
   "execution_count": 23,
   "metadata": {},
   "outputs": [
    {
     "name": "stdout",
     "output_type": "stream",
     "text": [
      "|\\_/|\n",
      "|q p|   /}\n",
      "( 0 )\"\"\"\\\n",
      "|\"^\"`    |\n",
      "||_/=\\\\__|\n"
     ]
    }
   ],
   "source": [
    "# 특수문자 출력 : 문자열출력에 역슬래쉬가 필요한 특수문자는 \\, \", ' 이다.\n",
    "## ^, |, ( 이런거는 괜찮다.\n",
    "print(\"|\\\\_/|\")\n",
    "print(\"|q p|   /}\")\n",
    "print(\"( 0 )\\\"\\\"\\\"\\\\\")\n",
    "print(\"|\\\"^\\\"`    |\")\n",
    "print(\"||_/=\\\\\\\\__|\")"
   ]
  },
  {
   "cell_type": "code",
   "execution_count": 35,
   "metadata": {},
   "outputs": [
    {
     "name": "stdout",
     "output_type": "stream",
     "text": [
      "         ,r'\"7\n",
      "r`-_   ,'  ,/\n",
      " \\. \". L_r'\n",
      "   `~\\/\n",
      "      |\n",
      "      |\n"
     ]
    }
   ],
   "source": [
    "# 새싹문제. 한 줄씩 print입력 필요없이 \"\"\" ~ \"\"\" 사용해서 출력!\n",
    "print(\"\"\"         ,r\\'\\\"7\n",
    "r`-_   ,\\'  ,/\n",
    " \\\\. \\\". L_r\\'\n",
    "   `~\\\\/\n",
    "      |\n",
    "      |\"\"\")"
   ]
  },
  {
   "cell_type": "markdown",
   "metadata": {},
   "source": [
    "## 2. 조건문"
   ]
  },
  {
   "cell_type": "code",
   "execution_count": 42,
   "metadata": {},
   "outputs": [
    {
     "name": "stdout",
     "output_type": "stream",
     "text": [
      "0 13\n"
     ]
    }
   ],
   "source": [
    "H, M = map(int, input().split())\n",
    "m = int(input())\n",
    "\n",
    "if (M+m)<60:\n",
    "    print(H, M+m)\n",
    "elif (M+m)>=60 and (H == 23):\n",
    "    print(0, M+m-60)\n",
    "elif (M+m)>=60 and (H != 23):\n",
    "    print(H+1, M+m-60)\n",
    "else:\n",
    "    pass"
   ]
  },
  {
   "cell_type": "markdown",
   "metadata": {},
   "source": [
    "    - 2525 오븐문제 다시풀기\n",
    "https://www.acmicpc.net/problem/2525"
   ]
  },
  {
   "cell_type": "code",
   "execution_count": null,
   "metadata": {},
   "outputs": [],
   "source": [
    "H, M = map(int, input().split())\n",
    "time = int(input())\n",
    "\n",
    "# M+time이 60미만이면 H M+time\n",
    "\n",
    "# M+time이 60이상이면 (M+time)//60만큼 H에 더하고, (M+time)%60만큼 M에 더한다.\n",
    "## 그러나 만약 H+(M+time)//60이 24 이상이라면 여기다가 24를 빼준다.(23+1 - 24 = 0)\n",
    "\n",
    "if (M+time < 60):\n",
    "    print(H, M+time)\n",
    "    \n",
    "elif (H+(M+time)//60 >=24):\n",
    "    print(H + (M+time)//60 -24, (M+time)%60)\n",
    "    \n",
    "elif (M+time >=60):\n",
    "    print(H + (M+time)//60, (M+time)%60)\n",
    "else:\n",
    "    pass"
   ]
  },
  {
   "cell_type": "markdown",
   "metadata": {},
   "source": [
    "    - 2480번 : 주사위 세개\n",
    "\n",
    "> ### 조건문에 and, or 또는 &, | 로 조건을 나타낼 때 두개가 다름을 알아야함.\n",
    "> ### and, or 은 양옆 식에 괄호()가 필요없다.\n",
    "> ### 그러나 &, | 는 (1==1) & (2==2) 이런식으로 괄호가 필요"
   ]
  },
  {
   "cell_type": "code",
   "execution_count": 9,
   "metadata": {},
   "outputs": [
    {
     "name": "stdout",
     "output_type": "stream",
     "text": [
      "1\n"
     ]
    }
   ],
   "source": [
    "a, b, c = map(int, input().split())\n",
    "\n",
    "# a,b,c가 같을 때\n",
    "# a,b,c중 2개가 같을 때\n",
    "## a==b, b==c\n",
    "## a==c\n",
    "# a,b,c가 다를 때\n",
    "\n",
    "if a==b and b==c and c==a:\n",
    "    print(10000 + a*1000)\n",
    "\n",
    "elif a==b or b==c:\n",
    "    print(1000 + b*100)\n",
    "elif a==c:\n",
    "    print(1000 + a*100)\n",
    "\n",
    "elif a!=b and b!=c and c!=a:\n",
    "    if a > b and a > c:\n",
    "        print(a*100)\n",
    "    elif b > c and b > a:\n",
    "        print(b*100)\n",
    "    elif c > a and c > b:\n",
    "        print(c*100)\n",
    "    else:\n",
    "        pass\n",
    "else:\n",
    "    pass\n",
    "    \n"
   ]
  },
  {
   "cell_type": "markdown",
   "metadata": {},
   "source": [
    "    - 15552번 : 빠른 입출력\n",
    "> ## In, 반복문으로 여러줄 입력받는 상황(for시간초과방지)\n",
    "> ### 빠른 입력을 위해 sys에서의 sys.stdin.readline로 input을 받음\n",
    "> ### 편의를 위해 sys.stdin.readline를 input이라는 변수에 넣어 평소 input받듯이 쓰면 된다."
   ]
  },
  {
   "cell_type": "code",
   "execution_count": 27,
   "metadata": {},
   "outputs": [
    {
     "data": {
      "text/plain": [
       "<function TextIOWrapper.readline(size=-1, /)>"
      ]
     },
     "execution_count": 27,
     "metadata": {},
     "output_type": "execute_result"
    }
   ],
   "source": [
    "# 본격적으로 for문 문제를 풀기 전에 주의해야 할 점이 있다.\n",
    "# 입출력 방식이 느리면 여러 줄을 입력받거나 출력할 때 시간초과가 날 수 있다는 점이다.\n",
    "\n",
    "# Python을 사용하고 있다면, input 대신 sys.stdin.readline을 사용할 수 있다.\n",
    "# 단, 이때는 맨 끝의 개행문자까지 같이 입력받기 때문에 문자열을 저장하고 싶을 경우 .rstrip()을 추가로 해 주는 것이 좋다.\n",
    "\n",
    "# rstrip을 하라는 건 문자열 자체를 변수에 저장하고 싶을 때 얘기지, 개행문자가 맨 끝에 들어와도 int 변환이나 split()을 그대로 할 수 있습니다.\n",
    "# 즉 int(sys.stdin.readline()), sys.stdin.readline().split() 이렇게 해도 아무 문제 없습니다.\n",
    "# 참고로 이름이 꽤 길기 때문에 저는 input = sys.stdin.readline을 맨 처음에 함으로써 쓰는 편입니다.\n",
    "\n",
    "import sys\n",
    "input = sys.stdin.readline\n",
    "\n",
    "n = int(input())\n",
    "\n",
    "for i in range(n):\n",
    "    a,b = map(int, input().split())\n",
    "    print(a+b)\n",
    "    \n",
    "    \n",
    "# sys.stdin.readline()이 빠른이유\n",
    "# 1. 개행문자를 안뗀다 -> strip불필요\n",
    "# 2. 프로프트 메시지를 안받는다 -> \"메시지를 입력하시오: \" 같은거 출력 기능이 없다."
   ]
  },
  {
   "cell_type": "markdown",
   "metadata": {},
   "source": [
    "11021번 : A+B-7.\n",
    "> ### print에서 인자를 붙혀서 문자열로 출력할 때. int숫자는 str()로 묶어준다."
   ]
  },
  {
   "cell_type": "code",
   "execution_count": null,
   "metadata": {},
   "outputs": [],
   "source": [
    "import sys\n",
    "input = sys.stdin.readline\n",
    "\n",
    "n = int(input())\n",
    "\n",
    "for i in range(n):\n",
    "    a,b = map(int, input().split())\n",
    "    print(\"Case #\" + str(i+1) + \": \" + str(a+b))"
   ]
  },
  {
   "cell_type": "code",
   "execution_count": 3,
   "metadata": {},
   "outputs": [
    {
     "name": "stdout",
     "output_type": "stream",
     "text": [
      "    *\n",
      "   **\n",
      "  ***\n",
      " ****\n",
      "*****\n"
     ]
    }
   ],
   "source": [
    "n = int(input())\n",
    "\n",
    "for i in range(n):\n",
    "    print(\" \"*(n-i-1) + \"*\"*(i+1))"
   ]
  },
  {
   "cell_type": "code",
   "execution_count": 4,
   "metadata": {},
   "outputs": [
    {
     "name": "stdout",
     "output_type": "stream",
     "text": [
      "['1', '2', '3', '4', '5', '6']\n"
     ]
    }
   ],
   "source": [
    "a = list(input().split())\n",
    "print(a)"
   ]
  },
  {
   "cell_type": "markdown",
   "metadata": {},
   "source": [
    "10871번 : X보다 작은 수.\n",
    "> ### 인자가 int인 리스트를 받을 때. list(), map() 같이 사용\n",
    "> ### list(map(int, input().split()))"
   ]
  },
  {
   "cell_type": "code",
   "execution_count": null,
   "metadata": {},
   "outputs": [],
   "source": [
    "a, b = map(int, input().split())\n",
    "ls = list(map(int, input().split()))\n",
    "\n",
    "for i in range(a):\n",
    "    if ls[i] < b:\n",
    "        print(ls[i], end=\" \")"
   ]
  },
  {
   "cell_type": "code",
   "execution_count": null,
   "metadata": {},
   "outputs": [],
   "source": []
  },
  {
   "cell_type": "markdown",
   "metadata": {},
   "source": [
    "10951번 : A+B-4\n",
    "> #### EOF:더이상 읽을 파일이 없을 때.의 처리\n",
    "> #### -> try~break문 사용"
   ]
  },
  {
   "cell_type": "code",
   "execution_count": null,
   "metadata": {},
   "outputs": [],
   "source": [
    "while 1:\n",
    "    try:\n",
    "        a, b = map(int, input().split())\n",
    "        print(a+b)\n",
    "    except:\n",
    "        break"
   ]
  },
  {
   "cell_type": "markdown",
   "metadata": {},
   "source": [
    "1110번 : 더하기 사이클\n",
    "\n",
    "    - 다시풀기"
   ]
  },
  {
   "cell_type": "code",
   "execution_count": 18,
   "metadata": {},
   "outputs": [
    {
     "name": "stdout",
     "output_type": "stream",
     "text": [
      "3\n"
     ]
    }
   ],
   "source": [
    "N = int(input()) # 0~99\n",
    "next_num=N\n",
    "cnt = 0\n",
    "\n",
    "# N=55\n",
    "while 1:\n",
    "    if next_num//10 == 0:\n",
    "        next_num = int(\"0\"+str(next_num))\n",
    "    \n",
    "    a = next_num//10 # 5\n",
    "    b = next_num%10 # 0\n",
    "    add_num = a+b # 5\n",
    "    add_num_1 = add_num%10 # 5\n",
    "    \n",
    "    next_num = b*10 + add_num_1 #5\n",
    "    cnt += 1\n",
    "    \n",
    "    if N == next_num:\n",
    "        break\n",
    "\n",
    "print(cnt)"
   ]
  },
  {
   "cell_type": "markdown",
   "metadata": {},
   "source": [
    "-끝-"
   ]
  }
 ],
 "metadata": {
  "kernelspec": {
   "display_name": "Python 3.8.5 ('base')",
   "language": "python",
   "name": "python3"
  },
  "language_info": {
   "codemirror_mode": {
    "name": "ipython",
    "version": 3
   },
   "file_extension": ".py",
   "mimetype": "text/x-python",
   "name": "python",
   "nbconvert_exporter": "python",
   "pygments_lexer": "ipython3",
   "version": "3.8.5"
  },
  "orig_nbformat": 4,
  "vscode": {
   "interpreter": {
    "hash": "c97f18ea1c0f4969cf594a5df9f14ba2a838cf106fc5300ddecce29d9d6f0c71"
   }
  }
 },
 "nbformat": 4,
 "nbformat_minor": 2
}
