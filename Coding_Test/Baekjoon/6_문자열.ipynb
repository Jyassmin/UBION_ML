{
 "cells": [
  {
   "cell_type": "markdown",
   "metadata": {},
   "source": [
    "# 6_문자열"
   ]
  },
  {
   "cell_type": "markdown",
   "metadata": {},
   "source": [
    "## 1. 11654"
   ]
  },
  {
   "cell_type": "code",
   "execution_count": 6,
   "metadata": {},
   "outputs": [
    {
     "name": "stdout",
     "output_type": "stream",
     "text": [
      "65\n"
     ]
    }
   ],
   "source": [
    "# 아스키 코드값 변환함수 ord()\n",
    "a = input()\n",
    "\n",
    "print(ord(a))"
   ]
  },
  {
   "cell_type": "markdown",
   "metadata": {},
   "source": [
    "## 2. 11720"
   ]
  },
  {
   "cell_type": "code",
   "execution_count": 10,
   "metadata": {},
   "outputs": [
    {
     "name": "stdout",
     "output_type": "stream",
     "text": [
      "15\n"
     ]
    }
   ],
   "source": [
    "n = int(input())\n",
    "st = input()\n",
    "sum = 0\n",
    "\n",
    "for i in range(n):\n",
    "    sum += int(st[i])\n",
    "\n",
    "print(sum)"
   ]
  },
  {
   "cell_type": "markdown",
   "metadata": {},
   "source": [
    "## 3. 10809"
   ]
  },
  {
   "cell_type": "markdown",
   "metadata": {},
   "source": [
    "###     dictionary 문법\n",
    "    - 삽입 : dict[\"key\"] = value\n",
    "    - 삭제 : del dict[\"key\"]\n",
    "    - key확인 : dict.keys()\n",
    "    - value확인 : dict.values()"
   ]
  },
  {
   "cell_type": "code",
   "execution_count": 40,
   "metadata": {},
   "outputs": [
    {
     "name": "stdout",
     "output_type": "stream",
     "text": [
      "1 0 -1 -1 2 -1 -1 -1 -1 4 3 -1 -1 7 5 -1 -1 -1 -1 -1 -1 -1 -1 -1 -1 -1 \n"
     ]
    }
   ],
   "source": [
    "def reverse(s):\n",
    "    s_reverse = \"\"\n",
    "    for i in s:\n",
    "        s_reverse = i + s_reverse\n",
    "    return s_reverse\n",
    "\n",
    "\n",
    "S = input()\n",
    "S = reverse(S)  # 처음 등장하는 위치를 위해 reverse\n",
    "\n",
    "diction = dict()    # 각 알파벳이 처음 등장하는 위치를 dict에 저장\n",
    "for i in range(len(S)):\n",
    "    diction[S[i]] = len(S)-1 -i # 7-i\n",
    "\n",
    "abc = \"\"    # a~z 문자열 생성\n",
    "for j in range(97, 123):\n",
    "    abc = abc + chr(j)\n",
    "\n",
    "# 결과출력\n",
    "for k in range(len(abc)):\n",
    "    if abc[k] in diction:\n",
    "        print(diction[abc[k]], end=\" \")\n",
    "    else:\n",
    "        print(-1, end=\" \")\n"
   ]
  },
  {
   "cell_type": "code",
   "execution_count": null,
   "metadata": {},
   "outputs": [],
   "source": [
    "# case2(다른풀이)\n",
    "s = input()\n",
    "a = 'abcdefghijklmnopqrstuvwxyz'\n",
    "l = [-1]*26\n",
    "\n",
    "for i in range(len(s)):\n",
    "    if l[a.index(s[i])] == -1:\n",
    "        l[a.index(s[i])] = i\n",
    "    \n",
    "for i in range(len(l)):\n",
    "    print(l[i], end=\" \")"
   ]
  },
  {
   "cell_type": "code",
   "execution_count": null,
   "metadata": {},
   "outputs": [],
   "source": [
    "# case3 : .index가 맨 앞의 문자 위치를 반환하는 특성을 이용\n",
    "s = input()\n",
    "a = 'abcdefghijklmnopqrstuvwxyz'\n",
    "l = [-1]*26\n",
    "\n",
    "for i in s:\n",
    "    l[a.index(i)]=s.index(i)\n",
    "\n",
    "for i in l:\n",
    "    print(i, end=' ')"
   ]
  },
  {
   "cell_type": "code",
   "execution_count": 47,
   "metadata": {},
   "outputs": [
    {
     "data": {
      "text/plain": [
       "-1"
      ]
     },
     "execution_count": 47,
     "metadata": {},
     "output_type": "execute_result"
    }
   ],
   "source": [
    "# case4\n",
    "## .find()함수 : 맨 앞에 위치한 문자위치 반환. 없을시 -1 반환\n",
    "string = input()\n",
    "alphabet = \"abcdefghijklmnopqrstuvwxyz\"\n",
    "for i in alphabet:\n",
    "    print(string.find(i), end = ' ')"
   ]
  },
  {
   "cell_type": "markdown",
   "metadata": {},
   "source": [
    "## 4. 2675"
   ]
  },
  {
   "cell_type": "code",
   "execution_count": 53,
   "metadata": {},
   "outputs": [
    {
     "name": "stdout",
     "output_type": "stream",
     "text": [
      "AAABBBCCC\n",
      "/////HHHHHTTTTTPPPPP\n"
     ]
    }
   ],
   "source": [
    "n = int(input())\n",
    "for i in range(n):\n",
    "    leng, st = input().split()\n",
    "    result = \"\"\n",
    "    \n",
    "    for j in st:\n",
    "        for _ in range(int(leng)):\n",
    "            result += j\n",
    "    print(result)"
   ]
  },
  {
   "cell_type": "code",
   "execution_count": null,
   "metadata": {},
   "outputs": [],
   "source": [
    "# case2 : leng만큼 문자에 곱해서(*) 문자반복\n",
    "n = int(input())\n",
    "for i in range(n):\n",
    "    leng, st = input().split()\n",
    "    text = ''\n",
    "    \n",
    "    for j in st:\n",
    "        text += j * int(leng)\n",
    "    print(text)"
   ]
  },
  {
   "cell_type": "code",
   "execution_count": null,
   "metadata": {},
   "outputs": [],
   "source": []
  },
  {
   "cell_type": "markdown",
   "metadata": {},
   "source": []
  },
  {
   "cell_type": "code",
   "execution_count": null,
   "metadata": {},
   "outputs": [],
   "source": []
  },
  {
   "cell_type": "code",
   "execution_count": null,
   "metadata": {},
   "outputs": [],
   "source": []
  },
  {
   "cell_type": "code",
   "execution_count": null,
   "metadata": {},
   "outputs": [],
   "source": []
  }
 ],
 "metadata": {
  "kernelspec": {
   "display_name": "Python 3.8.5 ('base')",
   "language": "python",
   "name": "python3"
  },
  "language_info": {
   "codemirror_mode": {
    "name": "ipython",
    "version": 3
   },
   "file_extension": ".py",
   "mimetype": "text/x-python",
   "name": "python",
   "nbconvert_exporter": "python",
   "pygments_lexer": "ipython3",
   "version": "3.8.5"
  },
  "orig_nbformat": 4,
  "vscode": {
   "interpreter": {
    "hash": "c97f18ea1c0f4969cf594a5df9f14ba2a838cf106fc5300ddecce29d9d6f0c71"
   }
  }
 },
 "nbformat": 4,
 "nbformat_minor": 2
}
